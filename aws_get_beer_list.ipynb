{
 "cells": [
  {
   "cell_type": "code",
   "execution_count": 1,
   "id": "fbba3701",
   "metadata": {},
   "outputs": [
    {
     "data": {
      "text/plain": [
       "True"
      ]
     },
     "execution_count": 1,
     "metadata": {},
     "output_type": "execute_result"
    }
   ],
   "source": [
    "import os\n",
    "import json\n",
    "import boto3\n",
    "import pandas as pd\n",
    "import numpy as np\n",
    "from boto3.dynamodb.types import TypeSerializer, TypeDeserializer\n",
    "from boto3.dynamodb.conditions import Key\n",
    "from decimal import Decimal\n",
    "from dotenv import load_dotenv\n",
    "from datetime import datetime\n",
    "import json\n",
    "\n",
    "load_dotenv()"
   ]
  },
  {
   "cell_type": "code",
   "execution_count": 2,
   "id": "fd83b3ed",
   "metadata": {},
   "outputs": [],
   "source": [
    "\n",
    "ts= TypeSerializer()\n",
    "td = TypeDeserializer()\n",
    "\n",
    "class DecimalEncoder(json.JSONEncoder):\n",
    "  def default(self, obj):\n",
    "    if isinstance(obj, Decimal):\n",
    "      return str(obj)\n",
    "    return json.JSONEncoder.default(self, obj)"
   ]
  },
  {
   "cell_type": "code",
   "execution_count": 88,
   "id": "a649efbc",
   "metadata": {},
   "outputs": [],
   "source": [
    "def query_sql(beer_id, dynamodb=None):\n",
    "    if not dynamodb:\n",
    "        dyna_clnt=boto3.client('dynamodb',\n",
    "                               region_name=os.getenv('AWS_REGION'),         \n",
    "                               aws_access_key_id=os.getenv('AWS_KEY'),          \n",
    "                               aws_secret_access_key=os.getenv('AWS_SECRET_KEY'))\n",
    "#    stmt = \"SELECT BEER_ID,BEER_NAME,BEER_SRC,BEER_DATE,LABEL_IMG,OG,FG,FERMENT_START,FERMENT_END,OUTPUT,STOCK FROM BREW_LOG\"\n",
    "    stmt = \"SELECT BEER_ID,BEER_NAME,BEER_SRC,BEER_DATE,LABEL_IMG,OG,FG,FERMENT_START,FERMENT_END,STOCK,\\\"OUTPUT\\\" FROM BREW_LOG WHERE begins_with(BEER_ID,'TEST')=false\"\n",
    "   # print(lambda_handler(event=brew1))\n",
    "    response = dyna_clnt.execute_statement(Statement=stmt)\n",
    "    #print(\"HI\")\n",
    "    return response    \n",
    " "
   ]
  },
  {
   "cell_type": "code",
   "execution_count": 89,
   "id": "583184d7",
   "metadata": {},
   "outputs": [],
   "source": [
    "lines = query_sql('all')\n"
   ]
  },
  {
   "cell_type": "code",
   "execution_count": 90,
   "id": "0263e228",
   "metadata": {},
   "outputs": [
    {
     "name": "stdout",
     "output_type": "stream",
     "text": [
      "{'Items': [{'FERMENT_END': {'S': '2020-06-14'}, 'OUTPUT': {'S': '9'}, 'BEER_DATE': {'S': '2020-05-16'}, 'OG': {'S': '1.047'}, 'BEER_ID': {'S': 'Molotov Red Lager'}, 'BEER_NAME': {'S': 'Lamentations Lockdown Lager'}, 'LABEL_IMG': {'S': 'images/lyrb_MRL_2020_05_16.jpg'}, 'FG': {'S': '1.009'}, 'FERMENT_START': {'S': '2020-05-16'}, 'BEER_SRC': {'S': 'http://beerguevara.com/product/molotov-refill-red-lager/'}, 'STOCK': {'S': '0'}}, {'FERMENT_END': {'S': '2021-12-01'}, 'OUTPUT': {'S': '34'}, 'BEER_DATE': {'S': '2021-11-20'}, 'OG': {'S': '1.054'}, 'BEER_ID': {'S': 'BAD_SANTA'}, 'BEER_NAME': {'S': 'Bad Santa Christmas Ale'}, 'LABEL_IMG': {'S': 'images/lyrb_BS_2021_12_01.jpg'}, 'FG': {'S': '1.008'}, 'FERMENT_START': {'S': '2021-11-20'}, 'BEER_SRC': {'S': 'http://beerguevara.com/product/molotov-refill-american-amber-ale/'}, 'STOCK': {'S': '0'}}, {'FERMENT_END': {'S': '2022-12-22'}, 'OUTPUT': {'S': '34'}, 'BEER_DATE': {'S': '2022-12-10'}, 'OG': {'S': '1.042'}, 'BEER_ID': {'S': 'RP_PA'}, 'BEER_NAME': {'S': 'Rama-Phala Pale Ale'}, 'LABEL_IMG': {'S': 'images/lrnb_RP_PA.jpg'}, 'FG': {'S': '1.002'}, 'FERMENT_START': {'S': '2022-12-10'}, 'BEER_SRC': {'S': 'https://beerguevara.com/product/15-litre-refill-comrade-kit-ants-west-side-pale-ale/'}, 'STOCK': {'S': '34'}}, {'FERMENT_END': {'S': '2021-07-22'}, 'OUTPUT': {'S': '34'}, 'BEER_DATE': {'S': '2021-07-03'}, 'OG': {'S': '1.042'}, 'BEER_ID': {'S': 'THWAA'}, 'BEER_NAME': {'S': 'Third Wave UC Prob-AAle'}, 'LABEL_IMG': {'S': 'images/lyrb_AA_2020_07_31.jpg'}, 'FG': {'S': '1.009'}, 'FERMENT_START': {'S': '2021-07-03'}, 'BEER_SRC': {'S': 'http://beerguevara.com/product/molotov-refill-american-amber-ale/'}, 'STOCK': {'S': '0'}}, {'FERMENT_END': {'S': '2021-09-15'}, 'OUTPUT': {'S': '34'}, 'BEER_DATE': {'S': '2021-09-05'}, 'OG': {'S': '1.050'}, 'BEER_ID': {'S': 'SCWG_IPA'}, 'BEER_NAME': {'S': 'Scallywag IPA'}, 'LABEL_IMG': {'S': 'images/lrnb_SCIPA_20210930_v2.jpg'}, 'FG': {'S': '1.009'}, 'FERMENT_START': {'S': '2021-09-03'}, 'BEER_SRC': {'S': 'https://beerguevara.com/product/15-litre-refill-comrade-kit-drifter-scallywag-ipa-grain-hops-yeast/'}, 'STOCK': {'S': '0'}}, {'FERMENT_END': {'S': '2020-07-31'}, 'OUTPUT': {'S': '9'}, 'BEER_DATE': {'S': '2020-07-19'}, 'OG': {'S': '1.044'}, 'BEER_ID': {'S': 'Amber Ale'}, 'BEER_NAME': {'S': \"Uncle Cyril's Prohibition Amber Ale\"}, 'LABEL_IMG': {'S': 'images/lyrb_AA_2020_07_31.jpg'}, 'FG': {'S': '1.008'}, 'FERMENT_START': {'S': '2020-07-19'}, 'BEER_SRC': {'S': 'http://beerguevara.com/product/molotov-refill-american-amber-ale/'}, 'STOCK': {'S': '0'}}, {'FERMENT_END': {'S': '2020-10-31'}, 'OUTPUT': {'S': '9'}, 'BEER_DATE': {'S': '2020-10-24'}, 'OG': {'S': '1.052'}, 'BEER_ID': {'S': 'Amber Ale'}, 'BEER_NAME': {'S': 'Huh! Amber Ale'}, 'LABEL_IMG': {'S': 'images/lyrb_AA_2020_07_31.jpg'}, 'FG': {'S': '1.008'}, 'FERMENT_START': {'S': '2020-10-24'}, 'BEER_SRC': {'S': 'http://beerguevara.com/product/molotov-refill-american-amber-ale/'}, 'STOCK': {'S': '0'}}, {'FERMENT_END': {'S': '2020-08-23'}, 'OUTPUT': {'S': '8'}, 'BEER_DATE': {'S': '2020-08-23'}, 'OG': {'S': '1.048'}, 'BEER_ID': {'S': 'Molotov Pale Ale v2'}, 'BEER_NAME': {'S': 'Spring Freedom Pale Ale'}, 'LABEL_IMG': {'S': 'https://beerguevara.com/wp-content/uploads/2014/11/Unknown-200x200.png'}, 'FG': {'S': '1.009'}, 'FERMENT_START': {'S': '2020-09-01'}, 'BEER_SRC': {'S': 'http://beerguevara.com/product/molotov-refill-pale-ale/'}, 'STOCK': {'S': '0'}}, {'FERMENT_END': {'S': '2020-10-10'}, 'OUTPUT': {'S': '9'}, 'BEER_DATE': {'S': '2020-09-18'}, 'OG': {'S': '1.044'}, 'BEER_ID': {'S': 'Molotov Red Lagerv2'}, 'BEER_NAME': {'S': 'Unnamed Lager'}, 'LABEL_IMG': {'S': 'https://beerguevara.com/wp-content/uploads/2014/12/vienna-lager-13blg-zestaw-surowcow-na-25l-piwa-200x200.jpg'}, 'FG': {'S': '1.009'}, 'FERMENT_START': {'S': '2020-09-18'}, 'BEER_SRC': {'S': 'http://beerguevara.com/product/molotov-refill-red-lager/'}, 'STOCK': {'S': '0'}}, {'FERMENT_END': {'S': '2020-08-15'}, 'OUTPUT': {'S': '9'}, 'BEER_DATE': {'S': '2020-07-18'}, 'OG': {'S': '1.047'}, 'BEER_ID': {'S': 'Dry Irish Stout'}, 'BEER_NAME': {'S': 'Stay-at-Home Stout'}, 'LABEL_IMG': {'S': 'images/lyrb_DIS_2020_08_11.jpg'}, 'FG': {'S': '1.011'}, 'FERMENT_START': {'S': '2020-08-02'}, 'BEER_SRC': {'S': 'http://beerguevara.com/product/molotov-refill-stout/'}, 'STOCK': {'S': '0'}}, {'FERMENT_END': {'S': '2020-05-09'}, 'OUTPUT': {'S': '8'}, 'BEER_DATE': {'S': '2020-05-01'}, 'OG': {'S': '1.058'}, 'BEER_ID': {'S': 'Molotov Pale Ale'}, 'BEER_NAME': {'S': 'Lockdown Pale Ale'}, 'LABEL_IMG': {'S': 'images/lyrb_MPA_2020_05_01.jpg'}, 'FG': {'S': '1.009'}, 'FERMENT_START': {'S': '2020-05-01'}, 'BEER_SRC': {'S': 'http://beerguevara.com/product/molotov-refill-pale-ale/'}, 'STOCK': {'S': '0'}}, {'FERMENT_END': {'S': '2021-04-10'}, 'OUTPUT': {'S': '34'}, 'BEER_DATE': {'S': '2021-04-10'}, 'OG': {'S': '1.038'}, 'BEER_ID': {'S': 'BB_PALE'}, 'BEER_NAME': {'S': 'THE BIG BATCH - Pale Ale'}, 'LABEL_IMG': {'S': 'https://beerguevara.com/wp-content/uploads/2020/05/Ants-Westside_Kit-200x172.png'}, 'FG': {'S': '1.004'}, 'FERMENT_START': {'S': '2020-03-25'}, 'BEER_SRC': {'S': 'https://beerguevara.com/product/15-litre-refill-comrade-kit-ants-west-side-pale-ale/'}, 'STOCK': {'S': '0'}}, {'FERMENT_END': {'S': '2021-01-09'}, 'OUTPUT': {'S': '8'}, 'BEER_DATE': {'S': '2020-12-23'}, 'OG': {'S': '1.072'}, 'BEER_ID': {'S': 'Molotov IPA v2'}, 'BEER_NAME': {'S': 'Christmas IPA'}, 'LABEL_IMG': {'S': 'https://beerguevara.com/wp-content/uploads/2014/11/images6-198x200.jpeg'}, 'FG': {'S': '1.012'}, 'FERMENT_START': {'S': '2020-12-23'}, 'BEER_SRC': {'S': 'https://beerguevara.com/product/molotov-refill-ipa/'}, 'STOCK': {'S': '0'}}, {'FERMENT_END': {'S': '2020-09-18'}, 'OUTPUT': {'S': '8'}, 'BEER_DATE': {'S': '2020-09-04'}, 'OG': {'S': '1.062'}, 'BEER_ID': {'S': 'Molotov IPA v1'}, 'BEER_NAME': {'S': '!incandescent IPA'}, 'LABEL_IMG': {'S': 'https://beerguevara.com/wp-content/uploads/2014/11/images6-198x200.jpeg'}, 'FG': {'S': '1.012'}, 'FERMENT_START': {'S': '2020-09-04'}, 'BEER_SRC': {'S': 'https://beerguevara.com/product/molotov-refill-ipa/'}, 'STOCK': {'S': '0'}}], 'ResponseMetadata': {'RequestId': '6IJ1ALJLSHFBP2HMBNBF3LLK4BVV4KQNSO5AEMVJF66Q9ASUAAJG', 'HTTPStatusCode': 200, 'HTTPHeaders': {'server': 'Server', 'date': 'Thu, 21 Dec 2023 07:41:58 GMT', 'content-type': 'application/x-amz-json-1.0', 'content-length': '5624', 'connection': 'keep-alive', 'x-amzn-requestid': '6IJ1ALJLSHFBP2HMBNBF3LLK4BVV4KQNSO5AEMVJF66Q9ASUAAJG', 'x-amz-crc32': '3357028954'}, 'RetryAttempts': 0}}\n"
     ]
    }
   ],
   "source": [
    "print(lines)\n",
    "df_raw = pd.json_normalize(lines, record_path =['Items'])"
   ]
  },
  {
   "cell_type": "code",
   "execution_count": 77,
   "id": "1b62b6d5",
   "metadata": {},
   "outputs": [
    {
     "name": "stdout",
     "output_type": "stream",
     "text": [
      "   FERMENT_END.S OUTPUT.S BEER_DATE.S   OG.S              BEER_ID.S  \\\n",
      "0     2020-06-14        9  2020-05-16  1.047      Molotov Red Lager   \n",
      "1     2021-12-01       34  2021-11-20  1.054              BAD_SANTA   \n",
      "2     2020-12-12        9  1910-12-12  1.047  TESTMolotv Red Lager2   \n",
      "3     2022-12-22       34  2022-12-10  1.042                  RP_PA   \n",
      "4     2021-07-22       34  2021-07-03  1.042                  THWAA   \n",
      "5            NaN      NaN  2021-09-05    NaN           TESTSCWG_IPA   \n",
      "6     2021-09-15       34  2021-09-05  1.050               SCWG_IPA   \n",
      "7     2020-07-31        9  2020-07-19  1.044              Amber Ale   \n",
      "8     2020-10-31        9  2020-10-24  1.052              Amber Ale   \n",
      "9     2020-08-23        8  2020-08-23  1.048    Molotov Pale Ale v2   \n",
      "10    2020-10-10        9  2020-09-18  1.044    Molotov Red Lagerv2   \n",
      "11    2020-08-15        9  2020-07-18  1.047        Dry Irish Stout   \n",
      "12    2020-05-09        8  2020-05-01  1.058       Molotov Pale Ale   \n",
      "13    2020-12-12        9  2020-12-12  1.047   TESTMolotv Red Lager   \n",
      "14    2021-04-10       34  2021-04-10  1.038                BB_PALE   \n",
      "15    2021-01-09        8  2020-12-23  1.072         Molotov IPA v2   \n",
      "16    2020-09-18        8  2020-09-04  1.062         Molotov IPA v1   \n",
      "\n",
      "                            BEER_NAME.S  \\\n",
      "0           Lamentations Lockdown Lager   \n",
      "1               Bad Santa Christmas Ale   \n",
      "2                             test name   \n",
      "3                   Rama-Phala Pale Ale   \n",
      "4               Third Wave UC Prob-AAle   \n",
      "5                                   NaN   \n",
      "6                         Scallywag IPA   \n",
      "7   Uncle Cyril's Prohibition Amber Ale   \n",
      "8                        Huh! Amber Ale   \n",
      "9               Spring Freedom Pale Ale   \n",
      "10                        Unnamed Lager   \n",
      "11                   Stay-at-Home Stout   \n",
      "12                    Lockdown Pale Ale   \n",
      "13                            test name   \n",
      "14             THE BIG BATCH - Pale Ale   \n",
      "15                        Christmas IPA   \n",
      "16                    !incandescent IPA   \n",
      "\n",
      "                                          LABEL_IMG.S   FG.S FERMENT_START.S  \\\n",
      "0                      images/lyrb_MRL_2020_05_16.jpg  1.009      2020-05-16   \n",
      "1                       images/lyrb_BS_2021_12_01.jpg  1.008      2021-11-20   \n",
      "2                      images/lyrb_MRL_2020_05_16.jpg  1.009      2020-12-12   \n",
      "3                               images/lrnb_RP_PA.jpg  1.002      2022-12-10   \n",
      "4                       images/lyrb_AA_2020_07_31.jpg  1.009      2021-07-03   \n",
      "5                                                 NaN    NaN             NaN   \n",
      "6                   images/lrnb_SCIPA_20210930_v2.jpg  1.009      2021-09-03   \n",
      "7                       images/lyrb_AA_2020_07_31.jpg  1.008      2020-07-19   \n",
      "8                       images/lyrb_AA_2020_07_31.jpg  1.008      2020-10-24   \n",
      "9   https://beerguevara.com/wp-content/uploads/201...  1.009      2020-09-01   \n",
      "10  https://beerguevara.com/wp-content/uploads/201...  1.009      2020-09-18   \n",
      "11                     images/lyrb_DIS_2020_08_11.jpg  1.011      2020-08-02   \n",
      "12                     images/lyrb_MPA_2020_05_01.jpg  1.009      2020-05-01   \n",
      "13                     images/lyrb_MRL_2020_05_16.jpg  1.009      2020-12-12   \n",
      "14  https://beerguevara.com/wp-content/uploads/202...  1.004      2020-03-25   \n",
      "15  https://beerguevara.com/wp-content/uploads/201...  1.012      2020-12-23   \n",
      "16  https://beerguevara.com/wp-content/uploads/201...  1.012      2020-09-04   \n",
      "\n",
      "                                           BEER_SRC.S STOCK.S  \n",
      "0   http://beerguevara.com/product/molotov-refill-...       0  \n",
      "1   http://beerguevara.com/product/molotov-refill-...       0  \n",
      "2   http://beerguevara.com/product/molotov-refill-...     NaN  \n",
      "3   https://beerguevara.com/product/15-litre-refil...      34  \n",
      "4   http://beerguevara.com/product/molotov-refill-...       0  \n",
      "5                                                 NaN     NaN  \n",
      "6   https://beerguevara.com/product/15-litre-refil...       0  \n",
      "7   http://beerguevara.com/product/molotov-refill-...       0  \n",
      "8   http://beerguevara.com/product/molotov-refill-...       0  \n",
      "9   http://beerguevara.com/product/molotov-refill-...       0  \n",
      "10  http://beerguevara.com/product/molotov-refill-...       0  \n",
      "11  http://beerguevara.com/product/molotov-refill-...       0  \n",
      "12  http://beerguevara.com/product/molotov-refill-...       0  \n",
      "13  http://beerguevara.com/product/molotov-refill-...     NaN  \n",
      "14  https://beerguevara.com/product/15-litre-refil...       0  \n",
      "15  https://beerguevara.com/product/molotov-refill...       0  \n",
      "16  https://beerguevara.com/product/molotov-refill...       0  \n"
     ]
    }
   ],
   "source": [
    "print(df_raw)"
   ]
  },
  {
   "cell_type": "code",
   "execution_count": null,
   "id": "db22740a",
   "metadata": {},
   "outputs": [],
   "source": []
  }
 ],
 "metadata": {
  "kernelspec": {
   "display_name": "Python 3 (ipykernel)",
   "language": "python",
   "name": "python3"
  },
  "language_info": {
   "codemirror_mode": {
    "name": "ipython",
    "version": 3
   },
   "file_extension": ".py",
   "mimetype": "text/x-python",
   "name": "python",
   "nbconvert_exporter": "python",
   "pygments_lexer": "ipython3",
   "version": "3.10.9"
  }
 },
 "nbformat": 4,
 "nbformat_minor": 5
}
