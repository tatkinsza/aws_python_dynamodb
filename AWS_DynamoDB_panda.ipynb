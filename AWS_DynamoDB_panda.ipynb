{
 "cells": [
  {
   "cell_type": "code",
   "execution_count": 22,
   "id": "be0bf4ff",
   "metadata": {},
   "outputs": [],
   "source": [
    "import os\n",
    "import json\n",
    "import boto3\n",
    "import pandas as pd\n",
    "import numpy as np\n",
    "from boto3.dynamodb.types import TypeSerializer, TypeDeserializer\n",
    "from boto3.dynamodb.conditions import Key\n",
    "from decimal import Decimal"
   ]
  },
  {
   "cell_type": "code",
   "execution_count": 23,
   "id": "86ef88e5",
   "metadata": {},
   "outputs": [],
   "source": [
    "from dotenv import load_dotenv"
   ]
  },
  {
   "cell_type": "code",
   "execution_count": 24,
   "id": "be33cab9",
   "metadata": {},
   "outputs": [
    {
     "data": {
      "text/plain": [
       "True"
      ]
     },
     "execution_count": 24,
     "metadata": {},
     "output_type": "execute_result"
    }
   ],
   "source": [
    "load_dotenv()"
   ]
  },
  {
   "cell_type": "code",
   "execution_count": 25,
   "id": "3b5a475a",
   "metadata": {},
   "outputs": [],
   "source": [
    "\n",
    "ts= TypeSerializer()\n",
    "td = TypeDeserializer()\n",
    "\n",
    "class DecimalEncoder(json.JSONEncoder):\n",
    "  def default(self, obj):\n",
    "    if isinstance(obj, Decimal):\n",
    "      return str(obj)\n",
    "    return json.JSONEncoder.default(self, obj)"
   ]
  },
  {
   "cell_type": "code",
   "execution_count": 26,
   "id": "542ed55e",
   "metadata": {},
   "outputs": [],
   "source": [
    "def query_sql(beer_id, dynamodb=None):\n",
    "    if not dynamodb:\n",
    "        dyna_clnt=boto3.client('dynamodb',\n",
    "                               region_name=os.getenv('AWS_REGION'),         \n",
    "                               aws_access_key_id=os.getenv('AWS_KEY'),          \n",
    "                               aws_secret_access_key=os.getenv('AWS_SECRET_KEY'))\n",
    "    stmt = \"SELECT BREW_ID,PI_TMSTP,STAGE,location,temperature,thermo_loc,thermo_temp FROM BREW_MON WHERE BREW_ID='\" + beer_id + \"'  ORDER BY PI_TMSTP DESC\"\n",
    "   # print(lambda_handler(event=brew1))\n",
    "    response = dyna_clnt.execute_statement(Statement=stmt)\n",
    "    print(\"HI\")\n",
    "    return response    \n",
    " "
   ]
  },
  {
   "cell_type": "code",
   "execution_count": 95,
   "id": "eb075d39",
   "metadata": {},
   "outputs": [
    {
     "name": "stdout",
     "output_type": "stream",
     "text": [
      "HI\n"
     ]
    }
   ],
   "source": [
    "lines = query_sql(beer_id='SCWG_IPA')"
   ]
  },
  {
   "cell_type": "code",
   "execution_count": 133,
   "id": "bc957475",
   "metadata": {},
   "outputs": [],
   "source": [
    " df_raw = pd.json_normalize(lines, record_path =['Items'])"
   ]
  },
  {
   "cell_type": "code",
   "execution_count": 134,
   "id": "ba09ed22",
   "metadata": {},
   "outputs": [],
   "source": [
    "    df_raw['pi_time']=pd.to_datetime(df_raw['PI_TMSTP.S'])\n",
    "    df_raw['temperature_n']=pd.to_numeric(df_raw['temperature.S'], downcast=\"float\")\n",
    "    df_raw['thermo_temp_n']=pd.to_numeric(df_raw['thermo_temp.N'], downcast=\"float\")    \n",
    "    df_raw.set_index('pi_time',inplace=True)"
   ]
  },
  {
   "cell_type": "code",
   "execution_count": 135,
   "id": "592b7e91",
   "metadata": {},
   "outputs": [],
   "source": [
    "    df_raw = df_raw.drop(df_raw[df_raw.thermo_temp_n > 50].index)\n",
    "    df_raw = df_raw.drop(df_raw[df_raw.thermo_temp_n < 0].index)\n",
    "    df_raw = df_raw.drop(columns=['BREW_ID.S','PI_TMSTP.S','STAGE.S','location.S','thermo_loc.S','temperature.S','thermo_temp.N'])\n",
    "    df_raw['temperature_n'] = df_raw['temperature_n'].round(2)\n",
    "    df_raw['thermo_temp_n'] = df_raw['thermo_temp_n'].round(2)"
   ]
  },
  {
   "cell_type": "code",
   "execution_count": 136,
   "id": "6c683f71",
   "metadata": {},
   "outputs": [],
   "source": [
    "    df_4h = df_raw.groupby([pd.Grouper(freq='2H', level='pi_time')]).mean(numeric_only=True)\n",
    "    df_4h = df_4h[df_4h['temperature_n'].notna()]\n",
    "    df_4h = df_4h[df_4h['thermo_temp_n'].notna()]"
   ]
  },
  {
   "cell_type": "code",
   "execution_count": 119,
   "id": "a501f928",
   "metadata": {},
   "outputs": [
    {
     "name": "stdout",
     "output_type": "stream",
     "text": [
      "                     temperature_n  thermo_temp_n\n",
      "pi_time                                          \n",
      "2021-09-08 00:00:00      13.250000      17.820000\n",
      "2021-09-09 22:00:00      20.111111      19.073750\n",
      "2021-09-10 00:00:00      18.500000      19.103333\n",
      "2021-09-10 02:00:00      18.000000      19.052500\n",
      "2021-09-10 04:00:00      17.250000      19.039999\n",
      "...                            ...            ...\n",
      "2021-09-17 08:00:00      16.916666      17.522499\n",
      "2021-09-17 10:00:00      19.250000      17.477499\n",
      "2021-09-17 12:00:00      20.333334      17.484999\n",
      "2021-09-17 14:00:00      21.083334      17.633333\n",
      "2021-09-17 16:00:00      21.250000      17.712500\n",
      "\n",
      "[94 rows x 2 columns]\n"
     ]
    }
   ],
   "source": [
    "print(df_4h)"
   ]
  },
  {
   "cell_type": "code",
   "execution_count": 137,
   "id": "f8044a94",
   "metadata": {},
   "outputs": [],
   "source": [
    "    df_4h=df_4h.reset_index()\n",
    "  "
   ]
  },
  {
   "cell_type": "code",
   "execution_count": 138,
   "id": "8ce65dae",
   "metadata": {},
   "outputs": [],
   "source": [
    "  df_4h_json = df_4h.to_json(orient='records',date_format='iso')"
   ]
  },
  {
   "cell_type": "code",
   "execution_count": 122,
   "id": "79b20690",
   "metadata": {},
   "outputs": [],
   "source": [
    "    json_4h = {'Items': df_4h_json}"
   ]
  },
  {
   "cell_type": "code",
   "execution_count": 139,
   "id": "e1cd56fb",
   "metadata": {},
   "outputs": [
    {
     "name": "stdout",
     "output_type": "stream",
     "text": [
      "[{\"pi_time\":\"2021-09-08T00:00:00.000\",\"temperature_n\":13.25,\"thermo_temp_n\":17.8199996948},{\"pi_time\":\"2021-09-09T22:00:00.000\",\"temperature_n\":20.1111106873,\"thermo_temp_n\":19.0737495422},{\"pi_time\":\"2021-09-10T00:00:00.000\",\"temperature_n\":18.5,\"thermo_temp_n\":19.1033325195},{\"pi_time\":\"2021-09-10T02:00:00.000\",\"temperature_n\":18.0,\"thermo_temp_n\":19.0524997711},{\"pi_time\":\"2021-09-10T04:00:00.000\",\"temperature_n\":17.25,\"thermo_temp_n\":19.0399990082},{\"pi_time\":\"2021-09-10T06:00:00.000\",\"temperature_n\":17.1666660309,\"thermo_temp_n\":18.9750003815},{\"pi_time\":\"2021-09-10T08:00:00.000\",\"temperature_n\":18.75,\"thermo_temp_n\":19.0249996185},{\"pi_time\":\"2021-09-10T10:00:00.000\",\"temperature_n\":21.3333339691,\"thermo_temp_n\":18.9958324432},{\"pi_time\":\"2021-09-10T12:00:00.000\",\"temperature_n\":21.75,\"thermo_temp_n\":19.0816669464},{\"pi_time\":\"2021-09-10T14:00:00.000\",\"temperature_n\":22.5833339691,\"thermo_temp_n\":19.0949993134},{\"pi_time\":\"2021-09-10T16:00:00.000\",\"temperature_n\":22.6666660309,\"thermo_temp_n\":19.0674991608},{\"pi_time\":\"2021-09-10T18:00:00.000\",\"temperature_n\":19.3333339691,\"thermo_temp_n\":18.7149982452},{\"pi_time\":\"2021-09-10T20:00:00.000\",\"temperature_n\":18.0,\"thermo_temp_n\":17.3075008392},{\"pi_time\":\"2021-09-10T22:00:00.000\",\"temperature_n\":17.9166660309,\"thermo_temp_n\":17.9825000763},{\"pi_time\":\"2021-09-11T00:00:00.000\",\"temperature_n\":17.0,\"thermo_temp_n\":18.1291675568},{\"pi_time\":\"2021-09-11T02:00:00.000\",\"temperature_n\":17.0,\"thermo_temp_n\":17.3349990845},{\"pi_time\":\"2021-09-11T06:00:00.000\",\"temperature_n\":16.0,\"thermo_temp_n\":15.5939998627},{\"pi_time\":\"2021-09-11T08:00:00.000\",\"temperature_n\":16.0,\"thermo_temp_n\":18.5616664886},{\"pi_time\":\"2021-09-11T10:00:00.000\",\"temperature_n\":16.3333339691,\"thermo_temp_n\":18.5991668701},{\"pi_time\":\"2021-09-11T12:00:00.000\",\"temperature_n\":17.1666660309,\"thermo_temp_n\":18.5133342743},{\"pi_time\":\"2021-09-11T14:00:00.000\",\"temperature_n\":18.0,\"thermo_temp_n\":18.4475002289},{\"pi_time\":\"2021-09-11T16:00:00.000\",\"temperature_n\":18.25,\"thermo_temp_n\":17.703332901},{\"pi_time\":\"2021-09-11T18:00:00.000\",\"temperature_n\":18.9166660309,\"thermo_temp_n\":18.3583335876},{\"pi_time\":\"2021-09-11T20:00:00.000\",\"temperature_n\":19.0,\"thermo_temp_n\":18.5633335114},{\"pi_time\":\"2021-09-11T22:00:00.000\",\"temperature_n\":19.0,\"thermo_temp_n\":18.5766677856},{\"pi_time\":\"2021-09-12T00:00:00.000\",\"temperature_n\":17.3333339691,\"thermo_temp_n\":18.5708332062},{\"pi_time\":\"2021-09-12T02:00:00.000\",\"temperature_n\":17.0,\"thermo_temp_n\":18.577501297},{\"pi_time\":\"2021-09-12T04:00:00.000\",\"temperature_n\":17.0,\"thermo_temp_n\":18.5766677856},{\"pi_time\":\"2021-09-12T06:00:00.000\",\"temperature_n\":17.0,\"thermo_temp_n\":18.5483341217},{\"pi_time\":\"2021-09-12T08:00:00.000\",\"temperature_n\":17.0,\"thermo_temp_n\":18.4833335876},{\"pi_time\":\"2021-09-12T10:00:00.000\",\"temperature_n\":17.0833339691,\"thermo_temp_n\":17.8099994659},{\"pi_time\":\"2021-09-12T12:00:00.000\",\"temperature_n\":17.0,\"thermo_temp_n\":18.4025001526},{\"pi_time\":\"2021-09-12T14:00:00.000\",\"temperature_n\":17.0,\"thermo_temp_n\":18.3125},{\"pi_time\":\"2021-09-12T16:00:00.000\",\"temperature_n\":17.4166660309,\"thermo_temp_n\":18.3291683197},{\"pi_time\":\"2021-09-12T18:00:00.000\",\"temperature_n\":17.0,\"thermo_temp_n\":18.4250011444},{\"pi_time\":\"2021-09-12T20:00:00.000\",\"temperature_n\":17.5,\"thermo_temp_n\":18.468334198},{\"pi_time\":\"2021-09-12T22:00:00.000\",\"temperature_n\":16.6666660309,\"thermo_temp_n\":17.7708339691},{\"pi_time\":\"2021-09-13T00:00:00.000\",\"temperature_n\":15.4166669846,\"thermo_temp_n\":17.8199996948},{\"pi_time\":\"2021-09-13T02:00:00.000\",\"temperature_n\":15.0,\"thermo_temp_n\":17.7258319855},{\"pi_time\":\"2021-09-13T04:00:00.000\",\"temperature_n\":14.9166669846,\"thermo_temp_n\":17.5899982452},{\"pi_time\":\"2021-09-13T06:00:00.000\",\"temperature_n\":14.25,\"thermo_temp_n\":17.5208339691},{\"pi_time\":\"2021-09-13T08:00:00.000\",\"temperature_n\":14.6666669846,\"thermo_temp_n\":17.6691665649},{\"pi_time\":\"2021-09-13T10:00:00.000\",\"temperature_n\":16.0833339691,\"thermo_temp_n\":17.5949993134},{\"pi_time\":\"2021-09-13T12:00:00.000\",\"temperature_n\":16.9166660309,\"thermo_temp_n\":17.5441665649},{\"pi_time\":\"2021-09-13T14:00:00.000\",\"temperature_n\":17.0,\"thermo_temp_n\":17.5816669464},{\"pi_time\":\"2021-09-13T16:00:00.000\",\"temperature_n\":16.3333339691,\"thermo_temp_n\":17.6166667938},{\"pi_time\":\"2021-09-13T18:00:00.000\",\"temperature_n\":15.1666669846,\"thermo_temp_n\":17.6327266693},{\"pi_time\":\"2021-09-13T20:00:00.000\",\"temperature_n\":15.5,\"thermo_temp_n\":17.6730003357},{\"pi_time\":\"2021-09-13T22:00:00.000\",\"temperature_n\":15.25,\"thermo_temp_n\":17.6766662598},{\"pi_time\":\"2021-09-14T00:00:00.000\",\"temperature_n\":15.0,\"thermo_temp_n\":17.5974998474},{\"pi_time\":\"2021-09-14T02:00:00.000\",\"temperature_n\":15.0,\"thermo_temp_n\":17.6116657257},{\"pi_time\":\"2021-09-14T04:00:00.000\",\"temperature_n\":14.8333330154,\"thermo_temp_n\":17.5524997711},{\"pi_time\":\"2021-09-14T06:00:00.000\",\"temperature_n\":14.0,\"thermo_temp_n\":17.1141662598},{\"pi_time\":\"2021-09-14T08:00:00.000\",\"temperature_n\":16.0833339691,\"thermo_temp_n\":16.2533321381},{\"pi_time\":\"2021-09-14T10:00:00.000\",\"temperature_n\":17.0,\"thermo_temp_n\":16.7674999237},{\"pi_time\":\"2021-09-14T12:00:00.000\",\"temperature_n\":17.5,\"thermo_temp_n\":16.3358325958},{\"pi_time\":\"2021-09-14T14:00:00.000\",\"temperature_n\":17.75,\"thermo_temp_n\":16.2616672516},{\"pi_time\":\"2021-09-14T16:00:00.000\",\"temperature_n\":17.5,\"thermo_temp_n\":17.5074996948},{\"pi_time\":\"2021-09-14T18:00:00.000\",\"temperature_n\":17.0833339691,\"thermo_temp_n\":17.4549999237},{\"pi_time\":\"2021-09-14T20:00:00.000\",\"temperature_n\":16.5,\"thermo_temp_n\":17.5666656494},{\"pi_time\":\"2021-09-14T22:00:00.000\",\"temperature_n\":15.8333330154,\"thermo_temp_n\":17.5824985504},{\"pi_time\":\"2021-09-15T00:00:00.000\",\"temperature_n\":15.0,\"thermo_temp_n\":17.609998703},{\"pi_time\":\"2021-09-15T02:00:00.000\",\"temperature_n\":14.4166669846,\"thermo_temp_n\":17.5074996948},{\"pi_time\":\"2021-09-15T04:00:00.000\",\"temperature_n\":14.0,\"thermo_temp_n\":17.3649997711},{\"pi_time\":\"2021-09-15T06:00:00.000\",\"temperature_n\":14.0833330154,\"thermo_temp_n\":17.0025005341},{\"pi_time\":\"2021-09-15T08:00:00.000\",\"temperature_n\":16.0833339691,\"thermo_temp_n\":16.7016658783},{\"pi_time\":\"2021-09-15T10:00:00.000\",\"temperature_n\":17.75,\"thermo_temp_n\":16.6725006104},{\"pi_time\":\"2021-09-15T12:00:00.000\",\"temperature_n\":18.1666660309,\"thermo_temp_n\":16.5475006104},{\"pi_time\":\"2021-09-15T14:00:00.000\",\"temperature_n\":18.75,\"thermo_temp_n\":16.4016666412},{\"pi_time\":\"2021-09-15T16:00:00.000\",\"temperature_n\":18.3333339691,\"thermo_temp_n\":17.1466674805},{\"pi_time\":\"2021-09-15T18:00:00.000\",\"temperature_n\":17.5,\"thermo_temp_n\":17.2166671753},{\"pi_time\":\"2021-09-15T20:00:00.000\",\"temperature_n\":17.8333339691,\"thermo_temp_n\":17.2841663361},{\"pi_time\":\"2021-09-15T22:00:00.000\",\"temperature_n\":16.25,\"thermo_temp_n\":17.3949985504},{\"pi_time\":\"2021-09-16T00:00:00.000\",\"temperature_n\":15.9166669846,\"thermo_temp_n\":17.4174995422},{\"pi_time\":\"2021-09-16T02:00:00.000\",\"temperature_n\":15.0,\"thermo_temp_n\":17.4324989319},{\"pi_time\":\"2021-09-16T04:00:00.000\",\"temperature_n\":15.0,\"thermo_temp_n\":17.4174995422},{\"pi_time\":\"2021-09-16T06:00:00.000\",\"temperature_n\":14.5,\"thermo_temp_n\":17.4099998474},{\"pi_time\":\"2021-09-16T08:00:00.000\",\"temperature_n\":16.8333339691,\"thermo_temp_n\":17.4249992371},{\"pi_time\":\"2021-09-16T10:00:00.000\",\"temperature_n\":18.8333339691,\"thermo_temp_n\":17.3199996948},{\"pi_time\":\"2021-09-16T12:00:00.000\",\"temperature_n\":19.0833339691,\"thermo_temp_n\":17.2608337402},{\"pi_time\":\"2021-09-16T14:00:00.000\",\"temperature_n\":19.3333339691,\"thermo_temp_n\":17.2674999237},{\"pi_time\":\"2021-09-16T16:00:00.000\",\"temperature_n\":18.8333339691,\"thermo_temp_n\":17.3724994659},{\"pi_time\":\"2021-09-16T18:00:00.000\",\"temperature_n\":17.25,\"thermo_temp_n\":17.4324989319},{\"pi_time\":\"2021-09-16T20:00:00.000\",\"temperature_n\":16.0833339691,\"thermo_temp_n\":17.703332901},{\"pi_time\":\"2021-09-16T22:00:00.000\",\"temperature_n\":15.0,\"thermo_temp_n\":17.6683330536},{\"pi_time\":\"2021-09-17T00:00:00.000\",\"temperature_n\":15.0,\"thermo_temp_n\":17.7116661072},{\"pi_time\":\"2021-09-17T02:00:00.000\",\"temperature_n\":15.0,\"thermo_temp_n\":17.6766662598},{\"pi_time\":\"2021-09-17T04:00:00.000\",\"temperature_n\":15.0,\"thermo_temp_n\":17.6324996948},{\"pi_time\":\"2021-09-17T06:00:00.000\",\"temperature_n\":15.0,\"thermo_temp_n\":17.5958328247},{\"pi_time\":\"2021-09-17T08:00:00.000\",\"temperature_n\":16.9166660309,\"thermo_temp_n\":17.5224990845},{\"pi_time\":\"2021-09-17T10:00:00.000\",\"temperature_n\":19.25,\"thermo_temp_n\":17.4774990082},{\"pi_time\":\"2021-09-17T12:00:00.000\",\"temperature_n\":20.3333339691,\"thermo_temp_n\":17.484998703},{\"pi_time\":\"2021-09-17T14:00:00.000\",\"temperature_n\":21.0833339691,\"thermo_temp_n\":17.6333332062},{\"pi_time\":\"2021-09-17T16:00:00.000\",\"temperature_n\":21.25,\"thermo_temp_n\":17.7124996185}]\n"
     ]
    }
   ],
   "source": [
    "print(df_4h_json)\n"
   ]
  },
  {
   "cell_type": "code",
   "execution_count": 113,
   "id": "852eef40",
   "metadata": {},
   "outputs": [],
   "source": [
    "\n",
    "json = df_4h.to_json() \n",
    "  \n"
   ]
  },
  {
   "cell_type": "code",
   "execution_count": 140,
   "id": "427c81d3",
   "metadata": {},
   "outputs": [
    {
     "name": "stdout",
     "output_type": "stream",
     "text": [
      "[{\"pi_time\":\"2021-09-08T00:00:00.000\",\"temperature_n\":13.25,\"thermo_temp_n\":17.8199996948},{\"pi_time\":\"2021-09-09T22:00:00.000\",\"temperature_n\":20.1111106873,\"thermo_temp_n\":19.0737495422},{\"pi_time\":\"2021-09-10T00:00:00.000\",\"temperature_n\":18.5,\"thermo_temp_n\":19.1033325195},{\"pi_time\":\"2021-09-10T02:00:00.000\",\"temperature_n\":18.0,\"thermo_temp_n\":19.0524997711},{\"pi_time\":\"2021-09-10T04:00:00.000\",\"temperature_n\":17.25,\"thermo_temp_n\":19.0399990082},{\"pi_time\":\"2021-09-10T06:00:00.000\",\"temperature_n\":17.1666660309,\"thermo_temp_n\":18.9750003815},{\"pi_time\":\"2021-09-10T08:00:00.000\",\"temperature_n\":18.75,\"thermo_temp_n\":19.0249996185},{\"pi_time\":\"2021-09-10T10:00:00.000\",\"temperature_n\":21.3333339691,\"thermo_temp_n\":18.9958324432},{\"pi_time\":\"2021-09-10T12:00:00.000\",\"temperature_n\":21.75,\"thermo_temp_n\":19.0816669464},{\"pi_time\":\"2021-09-10T14:00:00.000\",\"temperature_n\":22.5833339691,\"thermo_temp_n\":19.0949993134},{\"pi_time\":\"2021-09-10T16:00:00.000\",\"temperature_n\":22.6666660309,\"thermo_temp_n\":19.0674991608},{\"pi_time\":\"2021-09-10T18:00:00.000\",\"temperature_n\":19.3333339691,\"thermo_temp_n\":18.7149982452},{\"pi_time\":\"2021-09-10T20:00:00.000\",\"temperature_n\":18.0,\"thermo_temp_n\":17.3075008392},{\"pi_time\":\"2021-09-10T22:00:00.000\",\"temperature_n\":17.9166660309,\"thermo_temp_n\":17.9825000763},{\"pi_time\":\"2021-09-11T00:00:00.000\",\"temperature_n\":17.0,\"thermo_temp_n\":18.1291675568},{\"pi_time\":\"2021-09-11T02:00:00.000\",\"temperature_n\":17.0,\"thermo_temp_n\":17.3349990845},{\"pi_time\":\"2021-09-11T06:00:00.000\",\"temperature_n\":16.0,\"thermo_temp_n\":15.5939998627},{\"pi_time\":\"2021-09-11T08:00:00.000\",\"temperature_n\":16.0,\"thermo_temp_n\":18.5616664886},{\"pi_time\":\"2021-09-11T10:00:00.000\",\"temperature_n\":16.3333339691,\"thermo_temp_n\":18.5991668701},{\"pi_time\":\"2021-09-11T12:00:00.000\",\"temperature_n\":17.1666660309,\"thermo_temp_n\":18.5133342743},{\"pi_time\":\"2021-09-11T14:00:00.000\",\"temperature_n\":18.0,\"thermo_temp_n\":18.4475002289},{\"pi_time\":\"2021-09-11T16:00:00.000\",\"temperature_n\":18.25,\"thermo_temp_n\":17.703332901},{\"pi_time\":\"2021-09-11T18:00:00.000\",\"temperature_n\":18.9166660309,\"thermo_temp_n\":18.3583335876},{\"pi_time\":\"2021-09-11T20:00:00.000\",\"temperature_n\":19.0,\"thermo_temp_n\":18.5633335114},{\"pi_time\":\"2021-09-11T22:00:00.000\",\"temperature_n\":19.0,\"thermo_temp_n\":18.5766677856},{\"pi_time\":\"2021-09-12T00:00:00.000\",\"temperature_n\":17.3333339691,\"thermo_temp_n\":18.5708332062},{\"pi_time\":\"2021-09-12T02:00:00.000\",\"temperature_n\":17.0,\"thermo_temp_n\":18.577501297},{\"pi_time\":\"2021-09-12T04:00:00.000\",\"temperature_n\":17.0,\"thermo_temp_n\":18.5766677856},{\"pi_time\":\"2021-09-12T06:00:00.000\",\"temperature_n\":17.0,\"thermo_temp_n\":18.5483341217},{\"pi_time\":\"2021-09-12T08:00:00.000\",\"temperature_n\":17.0,\"thermo_temp_n\":18.4833335876},{\"pi_time\":\"2021-09-12T10:00:00.000\",\"temperature_n\":17.0833339691,\"thermo_temp_n\":17.8099994659},{\"pi_time\":\"2021-09-12T12:00:00.000\",\"temperature_n\":17.0,\"thermo_temp_n\":18.4025001526},{\"pi_time\":\"2021-09-12T14:00:00.000\",\"temperature_n\":17.0,\"thermo_temp_n\":18.3125},{\"pi_time\":\"2021-09-12T16:00:00.000\",\"temperature_n\":17.4166660309,\"thermo_temp_n\":18.3291683197},{\"pi_time\":\"2021-09-12T18:00:00.000\",\"temperature_n\":17.0,\"thermo_temp_n\":18.4250011444},{\"pi_time\":\"2021-09-12T20:00:00.000\",\"temperature_n\":17.5,\"thermo_temp_n\":18.468334198},{\"pi_time\":\"2021-09-12T22:00:00.000\",\"temperature_n\":16.6666660309,\"thermo_temp_n\":17.7708339691},{\"pi_time\":\"2021-09-13T00:00:00.000\",\"temperature_n\":15.4166669846,\"thermo_temp_n\":17.8199996948},{\"pi_time\":\"2021-09-13T02:00:00.000\",\"temperature_n\":15.0,\"thermo_temp_n\":17.7258319855},{\"pi_time\":\"2021-09-13T04:00:00.000\",\"temperature_n\":14.9166669846,\"thermo_temp_n\":17.5899982452},{\"pi_time\":\"2021-09-13T06:00:00.000\",\"temperature_n\":14.25,\"thermo_temp_n\":17.5208339691},{\"pi_time\":\"2021-09-13T08:00:00.000\",\"temperature_n\":14.6666669846,\"thermo_temp_n\":17.6691665649},{\"pi_time\":\"2021-09-13T10:00:00.000\",\"temperature_n\":16.0833339691,\"thermo_temp_n\":17.5949993134},{\"pi_time\":\"2021-09-13T12:00:00.000\",\"temperature_n\":16.9166660309,\"thermo_temp_n\":17.5441665649},{\"pi_time\":\"2021-09-13T14:00:00.000\",\"temperature_n\":17.0,\"thermo_temp_n\":17.5816669464},{\"pi_time\":\"2021-09-13T16:00:00.000\",\"temperature_n\":16.3333339691,\"thermo_temp_n\":17.6166667938},{\"pi_time\":\"2021-09-13T18:00:00.000\",\"temperature_n\":15.1666669846,\"thermo_temp_n\":17.6327266693},{\"pi_time\":\"2021-09-13T20:00:00.000\",\"temperature_n\":15.5,\"thermo_temp_n\":17.6730003357},{\"pi_time\":\"2021-09-13T22:00:00.000\",\"temperature_n\":15.25,\"thermo_temp_n\":17.6766662598},{\"pi_time\":\"2021-09-14T00:00:00.000\",\"temperature_n\":15.0,\"thermo_temp_n\":17.5974998474},{\"pi_time\":\"2021-09-14T02:00:00.000\",\"temperature_n\":15.0,\"thermo_temp_n\":17.6116657257},{\"pi_time\":\"2021-09-14T04:00:00.000\",\"temperature_n\":14.8333330154,\"thermo_temp_n\":17.5524997711},{\"pi_time\":\"2021-09-14T06:00:00.000\",\"temperature_n\":14.0,\"thermo_temp_n\":17.1141662598},{\"pi_time\":\"2021-09-14T08:00:00.000\",\"temperature_n\":16.0833339691,\"thermo_temp_n\":16.2533321381},{\"pi_time\":\"2021-09-14T10:00:00.000\",\"temperature_n\":17.0,\"thermo_temp_n\":16.7674999237},{\"pi_time\":\"2021-09-14T12:00:00.000\",\"temperature_n\":17.5,\"thermo_temp_n\":16.3358325958},{\"pi_time\":\"2021-09-14T14:00:00.000\",\"temperature_n\":17.75,\"thermo_temp_n\":16.2616672516},{\"pi_time\":\"2021-09-14T16:00:00.000\",\"temperature_n\":17.5,\"thermo_temp_n\":17.5074996948},{\"pi_time\":\"2021-09-14T18:00:00.000\",\"temperature_n\":17.0833339691,\"thermo_temp_n\":17.4549999237},{\"pi_time\":\"2021-09-14T20:00:00.000\",\"temperature_n\":16.5,\"thermo_temp_n\":17.5666656494},{\"pi_time\":\"2021-09-14T22:00:00.000\",\"temperature_n\":15.8333330154,\"thermo_temp_n\":17.5824985504},{\"pi_time\":\"2021-09-15T00:00:00.000\",\"temperature_n\":15.0,\"thermo_temp_n\":17.609998703},{\"pi_time\":\"2021-09-15T02:00:00.000\",\"temperature_n\":14.4166669846,\"thermo_temp_n\":17.5074996948},{\"pi_time\":\"2021-09-15T04:00:00.000\",\"temperature_n\":14.0,\"thermo_temp_n\":17.3649997711},{\"pi_time\":\"2021-09-15T06:00:00.000\",\"temperature_n\":14.0833330154,\"thermo_temp_n\":17.0025005341},{\"pi_time\":\"2021-09-15T08:00:00.000\",\"temperature_n\":16.0833339691,\"thermo_temp_n\":16.7016658783},{\"pi_time\":\"2021-09-15T10:00:00.000\",\"temperature_n\":17.75,\"thermo_temp_n\":16.6725006104},{\"pi_time\":\"2021-09-15T12:00:00.000\",\"temperature_n\":18.1666660309,\"thermo_temp_n\":16.5475006104},{\"pi_time\":\"2021-09-15T14:00:00.000\",\"temperature_n\":18.75,\"thermo_temp_n\":16.4016666412},{\"pi_time\":\"2021-09-15T16:00:00.000\",\"temperature_n\":18.3333339691,\"thermo_temp_n\":17.1466674805},{\"pi_time\":\"2021-09-15T18:00:00.000\",\"temperature_n\":17.5,\"thermo_temp_n\":17.2166671753},{\"pi_time\":\"2021-09-15T20:00:00.000\",\"temperature_n\":17.8333339691,\"thermo_temp_n\":17.2841663361},{\"pi_time\":\"2021-09-15T22:00:00.000\",\"temperature_n\":16.25,\"thermo_temp_n\":17.3949985504},{\"pi_time\":\"2021-09-16T00:00:00.000\",\"temperature_n\":15.9166669846,\"thermo_temp_n\":17.4174995422},{\"pi_time\":\"2021-09-16T02:00:00.000\",\"temperature_n\":15.0,\"thermo_temp_n\":17.4324989319},{\"pi_time\":\"2021-09-16T04:00:00.000\",\"temperature_n\":15.0,\"thermo_temp_n\":17.4174995422},{\"pi_time\":\"2021-09-16T06:00:00.000\",\"temperature_n\":14.5,\"thermo_temp_n\":17.4099998474},{\"pi_time\":\"2021-09-16T08:00:00.000\",\"temperature_n\":16.8333339691,\"thermo_temp_n\":17.4249992371},{\"pi_time\":\"2021-09-16T10:00:00.000\",\"temperature_n\":18.8333339691,\"thermo_temp_n\":17.3199996948},{\"pi_time\":\"2021-09-16T12:00:00.000\",\"temperature_n\":19.0833339691,\"thermo_temp_n\":17.2608337402},{\"pi_time\":\"2021-09-16T14:00:00.000\",\"temperature_n\":19.3333339691,\"thermo_temp_n\":17.2674999237},{\"pi_time\":\"2021-09-16T16:00:00.000\",\"temperature_n\":18.8333339691,\"thermo_temp_n\":17.3724994659},{\"pi_time\":\"2021-09-16T18:00:00.000\",\"temperature_n\":17.25,\"thermo_temp_n\":17.4324989319},{\"pi_time\":\"2021-09-16T20:00:00.000\",\"temperature_n\":16.0833339691,\"thermo_temp_n\":17.703332901},{\"pi_time\":\"2021-09-16T22:00:00.000\",\"temperature_n\":15.0,\"thermo_temp_n\":17.6683330536},{\"pi_time\":\"2021-09-17T00:00:00.000\",\"temperature_n\":15.0,\"thermo_temp_n\":17.7116661072},{\"pi_time\":\"2021-09-17T02:00:00.000\",\"temperature_n\":15.0,\"thermo_temp_n\":17.6766662598},{\"pi_time\":\"2021-09-17T04:00:00.000\",\"temperature_n\":15.0,\"thermo_temp_n\":17.6324996948},{\"pi_time\":\"2021-09-17T06:00:00.000\",\"temperature_n\":15.0,\"thermo_temp_n\":17.5958328247},{\"pi_time\":\"2021-09-17T08:00:00.000\",\"temperature_n\":16.9166660309,\"thermo_temp_n\":17.5224990845},{\"pi_time\":\"2021-09-17T10:00:00.000\",\"temperature_n\":19.25,\"thermo_temp_n\":17.4774990082},{\"pi_time\":\"2021-09-17T12:00:00.000\",\"temperature_n\":20.3333339691,\"thermo_temp_n\":17.484998703},{\"pi_time\":\"2021-09-17T14:00:00.000\",\"temperature_n\":21.0833339691,\"thermo_temp_n\":17.6333332062},{\"pi_time\":\"2021-09-17T16:00:00.000\",\"temperature_n\":21.25,\"thermo_temp_n\":17.7124996185}]\n"
     ]
    }
   ],
   "source": [
    "print(df_4h_json)"
   ]
  },
  {
   "cell_type": "code",
   "execution_count": 68,
   "id": "eeebe620",
   "metadata": {},
   "outputs": [],
   "source": [
    "        dyna_clnt=boto3.client('dynamodb',\n",
    "                               region_name=os.getenv('AWS_REGION'),         \n",
    "                               aws_access_key_id=os.getenv('AWS_KEY'),          \n",
    "                               aws_secret_access_key=os.getenv('AWS_SECRET_KEY'))"
   ]
  },
  {
   "cell_type": "code",
   "execution_count": 69,
   "id": "f2fbbbe0",
   "metadata": {},
   "outputs": [],
   "source": [
    "\n",
    "# Initialize DynamoDB client\n",
    "dynamodb = boto3.resource('dynamodb',\n",
    "                               region_name=os.getenv('AWS_REGION'),         \n",
    "                               aws_access_key_id=os.getenv('AWS_KEY'),          \n",
    "                               aws_secret_access_key=os.getenv('AWS_SECRET_KEY'))\n",
    "\n"
   ]
  },
  {
   "cell_type": "code",
   "execution_count": 82,
   "id": "198b1772",
   "metadata": {},
   "outputs": [],
   "source": [
    "table = dynamodb.Table('BREW_LOG')"
   ]
  },
  {
   "cell_type": "code",
   "execution_count": 83,
   "id": "6f7aa022",
   "metadata": {},
   "outputs": [
    {
     "name": "stdout",
     "output_type": "stream",
     "text": [
      "2020-06-21 17:34:00.674000+02:00\n"
     ]
    }
   ],
   "source": [
    "print(table.creation_date_time)"
   ]
  },
  {
   "cell_type": "code",
   "execution_count": 141,
   "id": "adfe0390",
   "metadata": {},
   "outputs": [
    {
     "data": {
      "text/plain": [
       "{'Attributes': {'TEMP_DATA': '[{\"pi_time\":\"2021-09-08T00:00:00.000\",\"temperature_n\":13.25,\"thermo_temp_n\":17.8199996948},{\"pi_time\":\"2021-09-09T22:00:00.000\",\"temperature_n\":20.1111106873,\"thermo_temp_n\":19.0737495422},{\"pi_time\":\"2021-09-10T00:00:00.000\",\"temperature_n\":18.5,\"thermo_temp_n\":19.1033325195},{\"pi_time\":\"2021-09-10T02:00:00.000\",\"temperature_n\":18.0,\"thermo_temp_n\":19.0524997711},{\"pi_time\":\"2021-09-10T04:00:00.000\",\"temperature_n\":17.25,\"thermo_temp_n\":19.0399990082},{\"pi_time\":\"2021-09-10T06:00:00.000\",\"temperature_n\":17.1666660309,\"thermo_temp_n\":18.9750003815},{\"pi_time\":\"2021-09-10T08:00:00.000\",\"temperature_n\":18.75,\"thermo_temp_n\":19.0249996185},{\"pi_time\":\"2021-09-10T10:00:00.000\",\"temperature_n\":21.3333339691,\"thermo_temp_n\":18.9958324432},{\"pi_time\":\"2021-09-10T12:00:00.000\",\"temperature_n\":21.75,\"thermo_temp_n\":19.0816669464},{\"pi_time\":\"2021-09-10T14:00:00.000\",\"temperature_n\":22.5833339691,\"thermo_temp_n\":19.0949993134},{\"pi_time\":\"2021-09-10T16:00:00.000\",\"temperature_n\":22.6666660309,\"thermo_temp_n\":19.0674991608},{\"pi_time\":\"2021-09-10T18:00:00.000\",\"temperature_n\":19.3333339691,\"thermo_temp_n\":18.7149982452},{\"pi_time\":\"2021-09-10T20:00:00.000\",\"temperature_n\":18.0,\"thermo_temp_n\":17.3075008392},{\"pi_time\":\"2021-09-10T22:00:00.000\",\"temperature_n\":17.9166660309,\"thermo_temp_n\":17.9825000763},{\"pi_time\":\"2021-09-11T00:00:00.000\",\"temperature_n\":17.0,\"thermo_temp_n\":18.1291675568},{\"pi_time\":\"2021-09-11T02:00:00.000\",\"temperature_n\":17.0,\"thermo_temp_n\":17.3349990845},{\"pi_time\":\"2021-09-11T06:00:00.000\",\"temperature_n\":16.0,\"thermo_temp_n\":15.5939998627},{\"pi_time\":\"2021-09-11T08:00:00.000\",\"temperature_n\":16.0,\"thermo_temp_n\":18.5616664886},{\"pi_time\":\"2021-09-11T10:00:00.000\",\"temperature_n\":16.3333339691,\"thermo_temp_n\":18.5991668701},{\"pi_time\":\"2021-09-11T12:00:00.000\",\"temperature_n\":17.1666660309,\"thermo_temp_n\":18.5133342743},{\"pi_time\":\"2021-09-11T14:00:00.000\",\"temperature_n\":18.0,\"thermo_temp_n\":18.4475002289},{\"pi_time\":\"2021-09-11T16:00:00.000\",\"temperature_n\":18.25,\"thermo_temp_n\":17.703332901},{\"pi_time\":\"2021-09-11T18:00:00.000\",\"temperature_n\":18.9166660309,\"thermo_temp_n\":18.3583335876},{\"pi_time\":\"2021-09-11T20:00:00.000\",\"temperature_n\":19.0,\"thermo_temp_n\":18.5633335114},{\"pi_time\":\"2021-09-11T22:00:00.000\",\"temperature_n\":19.0,\"thermo_temp_n\":18.5766677856},{\"pi_time\":\"2021-09-12T00:00:00.000\",\"temperature_n\":17.3333339691,\"thermo_temp_n\":18.5708332062},{\"pi_time\":\"2021-09-12T02:00:00.000\",\"temperature_n\":17.0,\"thermo_temp_n\":18.577501297},{\"pi_time\":\"2021-09-12T04:00:00.000\",\"temperature_n\":17.0,\"thermo_temp_n\":18.5766677856},{\"pi_time\":\"2021-09-12T06:00:00.000\",\"temperature_n\":17.0,\"thermo_temp_n\":18.5483341217},{\"pi_time\":\"2021-09-12T08:00:00.000\",\"temperature_n\":17.0,\"thermo_temp_n\":18.4833335876},{\"pi_time\":\"2021-09-12T10:00:00.000\",\"temperature_n\":17.0833339691,\"thermo_temp_n\":17.8099994659},{\"pi_time\":\"2021-09-12T12:00:00.000\",\"temperature_n\":17.0,\"thermo_temp_n\":18.4025001526},{\"pi_time\":\"2021-09-12T14:00:00.000\",\"temperature_n\":17.0,\"thermo_temp_n\":18.3125},{\"pi_time\":\"2021-09-12T16:00:00.000\",\"temperature_n\":17.4166660309,\"thermo_temp_n\":18.3291683197},{\"pi_time\":\"2021-09-12T18:00:00.000\",\"temperature_n\":17.0,\"thermo_temp_n\":18.4250011444},{\"pi_time\":\"2021-09-12T20:00:00.000\",\"temperature_n\":17.5,\"thermo_temp_n\":18.468334198},{\"pi_time\":\"2021-09-12T22:00:00.000\",\"temperature_n\":16.6666660309,\"thermo_temp_n\":17.7708339691},{\"pi_time\":\"2021-09-13T00:00:00.000\",\"temperature_n\":15.4166669846,\"thermo_temp_n\":17.8199996948},{\"pi_time\":\"2021-09-13T02:00:00.000\",\"temperature_n\":15.0,\"thermo_temp_n\":17.7258319855},{\"pi_time\":\"2021-09-13T04:00:00.000\",\"temperature_n\":14.9166669846,\"thermo_temp_n\":17.5899982452},{\"pi_time\":\"2021-09-13T06:00:00.000\",\"temperature_n\":14.25,\"thermo_temp_n\":17.5208339691},{\"pi_time\":\"2021-09-13T08:00:00.000\",\"temperature_n\":14.6666669846,\"thermo_temp_n\":17.6691665649},{\"pi_time\":\"2021-09-13T10:00:00.000\",\"temperature_n\":16.0833339691,\"thermo_temp_n\":17.5949993134},{\"pi_time\":\"2021-09-13T12:00:00.000\",\"temperature_n\":16.9166660309,\"thermo_temp_n\":17.5441665649},{\"pi_time\":\"2021-09-13T14:00:00.000\",\"temperature_n\":17.0,\"thermo_temp_n\":17.5816669464},{\"pi_time\":\"2021-09-13T16:00:00.000\",\"temperature_n\":16.3333339691,\"thermo_temp_n\":17.6166667938},{\"pi_time\":\"2021-09-13T18:00:00.000\",\"temperature_n\":15.1666669846,\"thermo_temp_n\":17.6327266693},{\"pi_time\":\"2021-09-13T20:00:00.000\",\"temperature_n\":15.5,\"thermo_temp_n\":17.6730003357},{\"pi_time\":\"2021-09-13T22:00:00.000\",\"temperature_n\":15.25,\"thermo_temp_n\":17.6766662598},{\"pi_time\":\"2021-09-14T00:00:00.000\",\"temperature_n\":15.0,\"thermo_temp_n\":17.5974998474},{\"pi_time\":\"2021-09-14T02:00:00.000\",\"temperature_n\":15.0,\"thermo_temp_n\":17.6116657257},{\"pi_time\":\"2021-09-14T04:00:00.000\",\"temperature_n\":14.8333330154,\"thermo_temp_n\":17.5524997711},{\"pi_time\":\"2021-09-14T06:00:00.000\",\"temperature_n\":14.0,\"thermo_temp_n\":17.1141662598},{\"pi_time\":\"2021-09-14T08:00:00.000\",\"temperature_n\":16.0833339691,\"thermo_temp_n\":16.2533321381},{\"pi_time\":\"2021-09-14T10:00:00.000\",\"temperature_n\":17.0,\"thermo_temp_n\":16.7674999237},{\"pi_time\":\"2021-09-14T12:00:00.000\",\"temperature_n\":17.5,\"thermo_temp_n\":16.3358325958},{\"pi_time\":\"2021-09-14T14:00:00.000\",\"temperature_n\":17.75,\"thermo_temp_n\":16.2616672516},{\"pi_time\":\"2021-09-14T16:00:00.000\",\"temperature_n\":17.5,\"thermo_temp_n\":17.5074996948},{\"pi_time\":\"2021-09-14T18:00:00.000\",\"temperature_n\":17.0833339691,\"thermo_temp_n\":17.4549999237},{\"pi_time\":\"2021-09-14T20:00:00.000\",\"temperature_n\":16.5,\"thermo_temp_n\":17.5666656494},{\"pi_time\":\"2021-09-14T22:00:00.000\",\"temperature_n\":15.8333330154,\"thermo_temp_n\":17.5824985504},{\"pi_time\":\"2021-09-15T00:00:00.000\",\"temperature_n\":15.0,\"thermo_temp_n\":17.609998703},{\"pi_time\":\"2021-09-15T02:00:00.000\",\"temperature_n\":14.4166669846,\"thermo_temp_n\":17.5074996948},{\"pi_time\":\"2021-09-15T04:00:00.000\",\"temperature_n\":14.0,\"thermo_temp_n\":17.3649997711},{\"pi_time\":\"2021-09-15T06:00:00.000\",\"temperature_n\":14.0833330154,\"thermo_temp_n\":17.0025005341},{\"pi_time\":\"2021-09-15T08:00:00.000\",\"temperature_n\":16.0833339691,\"thermo_temp_n\":16.7016658783},{\"pi_time\":\"2021-09-15T10:00:00.000\",\"temperature_n\":17.75,\"thermo_temp_n\":16.6725006104},{\"pi_time\":\"2021-09-15T12:00:00.000\",\"temperature_n\":18.1666660309,\"thermo_temp_n\":16.5475006104},{\"pi_time\":\"2021-09-15T14:00:00.000\",\"temperature_n\":18.75,\"thermo_temp_n\":16.4016666412},{\"pi_time\":\"2021-09-15T16:00:00.000\",\"temperature_n\":18.3333339691,\"thermo_temp_n\":17.1466674805},{\"pi_time\":\"2021-09-15T18:00:00.000\",\"temperature_n\":17.5,\"thermo_temp_n\":17.2166671753},{\"pi_time\":\"2021-09-15T20:00:00.000\",\"temperature_n\":17.8333339691,\"thermo_temp_n\":17.2841663361},{\"pi_time\":\"2021-09-15T22:00:00.000\",\"temperature_n\":16.25,\"thermo_temp_n\":17.3949985504},{\"pi_time\":\"2021-09-16T00:00:00.000\",\"temperature_n\":15.9166669846,\"thermo_temp_n\":17.4174995422},{\"pi_time\":\"2021-09-16T02:00:00.000\",\"temperature_n\":15.0,\"thermo_temp_n\":17.4324989319},{\"pi_time\":\"2021-09-16T04:00:00.000\",\"temperature_n\":15.0,\"thermo_temp_n\":17.4174995422},{\"pi_time\":\"2021-09-16T06:00:00.000\",\"temperature_n\":14.5,\"thermo_temp_n\":17.4099998474},{\"pi_time\":\"2021-09-16T08:00:00.000\",\"temperature_n\":16.8333339691,\"thermo_temp_n\":17.4249992371},{\"pi_time\":\"2021-09-16T10:00:00.000\",\"temperature_n\":18.8333339691,\"thermo_temp_n\":17.3199996948},{\"pi_time\":\"2021-09-16T12:00:00.000\",\"temperature_n\":19.0833339691,\"thermo_temp_n\":17.2608337402},{\"pi_time\":\"2021-09-16T14:00:00.000\",\"temperature_n\":19.3333339691,\"thermo_temp_n\":17.2674999237},{\"pi_time\":\"2021-09-16T16:00:00.000\",\"temperature_n\":18.8333339691,\"thermo_temp_n\":17.3724994659},{\"pi_time\":\"2021-09-16T18:00:00.000\",\"temperature_n\":17.25,\"thermo_temp_n\":17.4324989319},{\"pi_time\":\"2021-09-16T20:00:00.000\",\"temperature_n\":16.0833339691,\"thermo_temp_n\":17.703332901},{\"pi_time\":\"2021-09-16T22:00:00.000\",\"temperature_n\":15.0,\"thermo_temp_n\":17.6683330536},{\"pi_time\":\"2021-09-17T00:00:00.000\",\"temperature_n\":15.0,\"thermo_temp_n\":17.7116661072},{\"pi_time\":\"2021-09-17T02:00:00.000\",\"temperature_n\":15.0,\"thermo_temp_n\":17.6766662598},{\"pi_time\":\"2021-09-17T04:00:00.000\",\"temperature_n\":15.0,\"thermo_temp_n\":17.6324996948},{\"pi_time\":\"2021-09-17T06:00:00.000\",\"temperature_n\":15.0,\"thermo_temp_n\":17.5958328247},{\"pi_time\":\"2021-09-17T08:00:00.000\",\"temperature_n\":16.9166660309,\"thermo_temp_n\":17.5224990845},{\"pi_time\":\"2021-09-17T10:00:00.000\",\"temperature_n\":19.25,\"thermo_temp_n\":17.4774990082},{\"pi_time\":\"2021-09-17T12:00:00.000\",\"temperature_n\":20.3333339691,\"thermo_temp_n\":17.484998703},{\"pi_time\":\"2021-09-17T14:00:00.000\",\"temperature_n\":21.0833339691,\"thermo_temp_n\":17.6333332062},{\"pi_time\":\"2021-09-17T16:00:00.000\",\"temperature_n\":21.25,\"thermo_temp_n\":17.7124996185}]'},\n",
       " 'ResponseMetadata': {'RequestId': '5U7D0C9AIDA9ATRD0OUDQ0MMAVVV4KQNSO5AEMVJF66Q9ASUAAJG',\n",
       "  'HTTPStatusCode': 200,\n",
       "  'HTTPHeaders': {'server': 'Server',\n",
       "   'date': 'Mon, 18 Dec 2023 15:22:46 GMT',\n",
       "   'content-type': 'application/x-amz-json-1.0',\n",
       "   'content-length': '9527',\n",
       "   'connection': 'keep-alive',\n",
       "   'x-amzn-requestid': '5U7D0C9AIDA9ATRD0OUDQ0MMAVVV4KQNSO5AEMVJF66Q9ASUAAJG',\n",
       "   'x-amz-crc32': '3225425990'},\n",
       "  'RetryAttempts': 0}}"
      ]
     },
     "execution_count": 141,
     "metadata": {},
     "output_type": "execute_result"
    }
   ],
   "source": [
    "table.update_item(\n",
    "   Key={\"BEER_ID\":\"SCWG_IPA\", \"BEER_DATE\": \"2021-09-05\"},\n",
    "                UpdateExpression=\"set TEMP_DATA=:r\",\n",
    "                ExpressionAttributeValues={\":r\": df_4h_json},\n",
    "                ReturnValues=\"UPDATED_NEW\"\n",
    ")"
   ]
  },
  {
   "cell_type": "code",
   "execution_count": 144,
   "id": "4f96bba9",
   "metadata": {},
   "outputs": [
    {
     "data": {
      "text/plain": [
       "{'ResponseMetadata': {'RequestId': '8GJ5DQSPGQ0QGKA175KEVVM56FVV4KQNSO5AEMVJF66Q9ASUAAJG',\n",
       "  'HTTPStatusCode': 200,\n",
       "  'HTTPHeaders': {'server': 'Server',\n",
       "   'date': 'Mon, 18 Dec 2023 15:26:10 GMT',\n",
       "   'content-type': 'application/x-amz-json-1.0',\n",
       "   'content-length': '2',\n",
       "   'connection': 'keep-alive',\n",
       "   'x-amzn-requestid': '8GJ5DQSPGQ0QGKA175KEVVM56FVV4KQNSO5AEMVJF66Q9ASUAAJG',\n",
       "   'x-amz-crc32': '2745614147'},\n",
       "  'RetryAttempts': 0}}"
      ]
     },
     "execution_count": 144,
     "metadata": {},
     "output_type": "execute_result"
    }
   ],
   "source": [
    "nested_preferences = {\n",
    "    \"theme\": \"dark\",\n",
    "    \"notifications\": {\n",
    "        \"email\": True,\n",
    "        \"sms\": False\n",
    "    },\n",
    "    \"settings\": {\n",
    "        \"language\": \"en\",\n",
    "        \"timezone\": \"GMT+0\"\n",
    "    }\n",
    "}\n",
    "\n",
    "# Example user item with nested preferences\n",
    "user_item = {\n",
    "'BEER_ID':\"TESTSCWG_IPA\", 'BEER_DATE': \"2021-09-05\",\n",
    "    'email': 'john@example.com',\n",
    "    'age': 30,\n",
    "    'preferences': nested_preferences\n",
    "}\n",
    "\n",
    "# Get reference to the DynamoDB table\n",
    "table = dynamodb.Table(\"BREW_LOG\")\n",
    "\n",
    "# Put the item into the table\n",
    "table.put_item(Item=user_item)"
   ]
  },
  {
   "cell_type": "code",
   "execution_count": null,
   "id": "e0aef84c",
   "metadata": {},
   "outputs": [],
   "source": []
  }
 ],
 "metadata": {
  "kernelspec": {
   "display_name": "Python 3 (ipykernel)",
   "language": "python",
   "name": "python3"
  },
  "language_info": {
   "codemirror_mode": {
    "name": "ipython",
    "version": 3
   },
   "file_extension": ".py",
   "mimetype": "text/x-python",
   "name": "python",
   "nbconvert_exporter": "python",
   "pygments_lexer": "ipython3",
   "version": "3.10.9"
  }
 },
 "nbformat": 4,
 "nbformat_minor": 5
}
