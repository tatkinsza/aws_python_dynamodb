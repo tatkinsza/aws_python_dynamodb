{
 "cells": [
  {
   "cell_type": "code",
   "execution_count": 6,
   "id": "be0bf4ff",
   "metadata": {},
   "outputs": [
    {
     "data": {
      "text/plain": [
       "True"
      ]
     },
     "execution_count": 6,
     "metadata": {},
     "output_type": "execute_result"
    }
   ],
   "source": [
    "import os\n",
    "import json\n",
    "import boto3\n",
    "import pandas as pd\n",
    "import numpy as np\n",
    "from boto3.dynamodb.types import TypeSerializer, TypeDeserializer\n",
    "from boto3.dynamodb.conditions import Key\n",
    "from decimal import Decimal\n",
    "from dotenv import load_dotenv\n",
    "from datetime import datetime\n",
    "import json\n",
    "\n",
    "load_dotenv()"
   ]
  },
  {
   "cell_type": "code",
   "execution_count": 7,
   "id": "3b5a475a",
   "metadata": {},
   "outputs": [],
   "source": [
    "\n",
    "ts= TypeSerializer()\n",
    "td = TypeDeserializer()\n",
    "\n",
    "class DecimalEncoder(json.JSONEncoder):\n",
    "  def default(self, obj):\n",
    "    if isinstance(obj, Decimal):\n",
    "      return str(obj)\n",
    "    return json.JSONEncoder.default(self, obj)"
   ]
  },
  {
   "cell_type": "code",
   "execution_count": 8,
   "id": "542ed55e",
   "metadata": {},
   "outputs": [],
   "source": [
    "def query_sql(beer_id, dynamodb=None):\n",
    "    if not dynamodb:\n",
    "        dyna_clnt=boto3.client('dynamodb',\n",
    "                               region_name=os.getenv('AWS_REGION'),         \n",
    "                               aws_access_key_id=os.getenv('AWS_KEY'),          \n",
    "                               aws_secret_access_key=os.getenv('AWS_SECRET_KEY'))\n",
    "    stmt = \"SELECT BREW_ID,PI_TMSTP,STAGE,location,temperature,thermo_loc,thermo_temp FROM BREW_MON WHERE BREW_ID='\" + beer_id + \"'  ORDER BY PI_TMSTP DESC\"\n",
    "   # print(lambda_handler(event=brew1))\n",
    "    response = dyna_clnt.execute_statement(Statement=stmt)\n",
    "    #print(\"HI\")\n",
    "    return response    \n",
    " "
   ]
  },
  {
   "cell_type": "code",
   "execution_count": 9,
   "id": "eb075d39",
   "metadata": {},
   "outputs": [],
   "source": [
    "lines = query_sql(beer_id='SCWG_IPA')\n",
    "df_raw = pd.json_normalize(lines, record_path =['Items'])"
   ]
  },
  {
   "cell_type": "code",
   "execution_count": 10,
   "id": "ba09ed22",
   "metadata": {},
   "outputs": [],
   "source": [
    "    df_raw['pi_time']=pd.to_datetime(df_raw['PI_TMSTP.S'])\n",
    "    df_raw['temperature_n']=pd.to_numeric(df_raw['temperature.S'], downcast=\"float\")\n",
    "    df_raw['thermo_temp_n']=pd.to_numeric(df_raw['thermo_temp.N'], downcast=\"float\")    \n",
    "    df_raw.set_index('pi_time',inplace=True)\n",
    "    df_raw = df_raw.drop(df_raw[df_raw.thermo_temp_n > 50].index)\n",
    "    df_raw = df_raw.drop(df_raw[df_raw.thermo_temp_n < 0].index)\n",
    "    df_raw = df_raw.drop(columns=['BREW_ID.S','PI_TMSTP.S','STAGE.S','location.S','thermo_loc.S','temperature.S','thermo_temp.N'])\n"
   ]
  },
  {
   "cell_type": "code",
   "execution_count": 29,
   "id": "6c683f71",
   "metadata": {},
   "outputs": [
    {
     "ename": "KeyError",
     "evalue": "\"['pi_time'] not found in axis\"",
     "output_type": "error",
     "traceback": [
      "\u001b[1;31m---------------------------------------------------------------------------\u001b[0m",
      "\u001b[1;31mKeyError\u001b[0m                                  Traceback (most recent call last)",
      "Cell \u001b[1;32mIn[29], line 6\u001b[0m\n\u001b[0;32m      4\u001b[0m df_4h[\u001b[38;5;124m'\u001b[39m\u001b[38;5;124mtemperature_n\u001b[39m\u001b[38;5;124m'\u001b[39m] \u001b[38;5;241m=\u001b[39m df_4h[\u001b[38;5;124m'\u001b[39m\u001b[38;5;124mtemperature_n\u001b[39m\u001b[38;5;124m'\u001b[39m]\u001b[38;5;241m.\u001b[39mastype(\u001b[38;5;124m'\u001b[39m\u001b[38;5;124mfloat64\u001b[39m\u001b[38;5;124m'\u001b[39m)\u001b[38;5;241m.\u001b[39mround(decimals\u001b[38;5;241m=\u001b[39m\u001b[38;5;241m0\u001b[39m)\n\u001b[0;32m      5\u001b[0m df_4h[\u001b[38;5;124m'\u001b[39m\u001b[38;5;124mthermo_temp_n\u001b[39m\u001b[38;5;124m'\u001b[39m] \u001b[38;5;241m=\u001b[39m df_4h[\u001b[38;5;124m'\u001b[39m\u001b[38;5;124mthermo_temp_n\u001b[39m\u001b[38;5;124m'\u001b[39m]\u001b[38;5;241m.\u001b[39mastype(\u001b[38;5;124m'\u001b[39m\u001b[38;5;124mfloat64\u001b[39m\u001b[38;5;124m'\u001b[39m)\u001b[38;5;241m.\u001b[39mround(decimals\u001b[38;5;241m=\u001b[39m\u001b[38;5;241m0\u001b[39m)\n\u001b[1;32m----> 6\u001b[0m df_4h \u001b[38;5;241m=\u001b[39m \u001b[43mdf_4h\u001b[49m\u001b[38;5;241;43m.\u001b[39;49m\u001b[43mdrop\u001b[49m\u001b[43m(\u001b[49m\u001b[43mcolumns\u001b[49m\u001b[38;5;241;43m=\u001b[39;49m\u001b[43m[\u001b[49m\u001b[38;5;124;43m'\u001b[39;49m\u001b[38;5;124;43mpi_time\u001b[39;49m\u001b[38;5;124;43m'\u001b[39;49m\u001b[43m]\u001b[49m\u001b[43m)\u001b[49m\n",
      "File \u001b[1;32m~\\anaconda3\\lib\\site-packages\\pandas\\util\\_decorators.py:331\u001b[0m, in \u001b[0;36mdeprecate_nonkeyword_arguments.<locals>.decorate.<locals>.wrapper\u001b[1;34m(*args, **kwargs)\u001b[0m\n\u001b[0;32m    325\u001b[0m \u001b[38;5;28;01mif\u001b[39;00m \u001b[38;5;28mlen\u001b[39m(args) \u001b[38;5;241m>\u001b[39m num_allow_args:\n\u001b[0;32m    326\u001b[0m     warnings\u001b[38;5;241m.\u001b[39mwarn(\n\u001b[0;32m    327\u001b[0m         msg\u001b[38;5;241m.\u001b[39mformat(arguments\u001b[38;5;241m=\u001b[39m_format_argument_list(allow_args)),\n\u001b[0;32m    328\u001b[0m         \u001b[38;5;167;01mFutureWarning\u001b[39;00m,\n\u001b[0;32m    329\u001b[0m         stacklevel\u001b[38;5;241m=\u001b[39mfind_stack_level(),\n\u001b[0;32m    330\u001b[0m     )\n\u001b[1;32m--> 331\u001b[0m \u001b[38;5;28;01mreturn\u001b[39;00m func(\u001b[38;5;241m*\u001b[39margs, \u001b[38;5;241m*\u001b[39m\u001b[38;5;241m*\u001b[39mkwargs)\n",
      "File \u001b[1;32m~\\anaconda3\\lib\\site-packages\\pandas\\core\\frame.py:5399\u001b[0m, in \u001b[0;36mDataFrame.drop\u001b[1;34m(self, labels, axis, index, columns, level, inplace, errors)\u001b[0m\n\u001b[0;32m   5251\u001b[0m \u001b[38;5;129m@deprecate_nonkeyword_arguments\u001b[39m(version\u001b[38;5;241m=\u001b[39m\u001b[38;5;28;01mNone\u001b[39;00m, allowed_args\u001b[38;5;241m=\u001b[39m[\u001b[38;5;124m\"\u001b[39m\u001b[38;5;124mself\u001b[39m\u001b[38;5;124m\"\u001b[39m, \u001b[38;5;124m\"\u001b[39m\u001b[38;5;124mlabels\u001b[39m\u001b[38;5;124m\"\u001b[39m])\n\u001b[0;32m   5252\u001b[0m \u001b[38;5;28;01mdef\u001b[39;00m \u001b[38;5;21mdrop\u001b[39m(  \u001b[38;5;66;03m# type: ignore[override]\u001b[39;00m\n\u001b[0;32m   5253\u001b[0m     \u001b[38;5;28mself\u001b[39m,\n\u001b[1;32m   (...)\u001b[0m\n\u001b[0;32m   5260\u001b[0m     errors: IgnoreRaise \u001b[38;5;241m=\u001b[39m \u001b[38;5;124m\"\u001b[39m\u001b[38;5;124mraise\u001b[39m\u001b[38;5;124m\"\u001b[39m,\n\u001b[0;32m   5261\u001b[0m ) \u001b[38;5;241m-\u001b[39m\u001b[38;5;241m>\u001b[39m DataFrame \u001b[38;5;241m|\u001b[39m \u001b[38;5;28;01mNone\u001b[39;00m:\n\u001b[0;32m   5262\u001b[0m     \u001b[38;5;124;03m\"\"\"\u001b[39;00m\n\u001b[0;32m   5263\u001b[0m \u001b[38;5;124;03m    Drop specified labels from rows or columns.\u001b[39;00m\n\u001b[0;32m   5264\u001b[0m \n\u001b[1;32m   (...)\u001b[0m\n\u001b[0;32m   5397\u001b[0m \u001b[38;5;124;03m            weight  1.0     0.8\u001b[39;00m\n\u001b[0;32m   5398\u001b[0m \u001b[38;5;124;03m    \"\"\"\u001b[39;00m\n\u001b[1;32m-> 5399\u001b[0m     \u001b[38;5;28;01mreturn\u001b[39;00m \u001b[38;5;28;43msuper\u001b[39;49m\u001b[43m(\u001b[49m\u001b[43m)\u001b[49m\u001b[38;5;241;43m.\u001b[39;49m\u001b[43mdrop\u001b[49m\u001b[43m(\u001b[49m\n\u001b[0;32m   5400\u001b[0m \u001b[43m        \u001b[49m\u001b[43mlabels\u001b[49m\u001b[38;5;241;43m=\u001b[39;49m\u001b[43mlabels\u001b[49m\u001b[43m,\u001b[49m\n\u001b[0;32m   5401\u001b[0m \u001b[43m        \u001b[49m\u001b[43maxis\u001b[49m\u001b[38;5;241;43m=\u001b[39;49m\u001b[43maxis\u001b[49m\u001b[43m,\u001b[49m\n\u001b[0;32m   5402\u001b[0m \u001b[43m        \u001b[49m\u001b[43mindex\u001b[49m\u001b[38;5;241;43m=\u001b[39;49m\u001b[43mindex\u001b[49m\u001b[43m,\u001b[49m\n\u001b[0;32m   5403\u001b[0m \u001b[43m        \u001b[49m\u001b[43mcolumns\u001b[49m\u001b[38;5;241;43m=\u001b[39;49m\u001b[43mcolumns\u001b[49m\u001b[43m,\u001b[49m\n\u001b[0;32m   5404\u001b[0m \u001b[43m        \u001b[49m\u001b[43mlevel\u001b[49m\u001b[38;5;241;43m=\u001b[39;49m\u001b[43mlevel\u001b[49m\u001b[43m,\u001b[49m\n\u001b[0;32m   5405\u001b[0m \u001b[43m        \u001b[49m\u001b[43minplace\u001b[49m\u001b[38;5;241;43m=\u001b[39;49m\u001b[43minplace\u001b[49m\u001b[43m,\u001b[49m\n\u001b[0;32m   5406\u001b[0m \u001b[43m        \u001b[49m\u001b[43merrors\u001b[49m\u001b[38;5;241;43m=\u001b[39;49m\u001b[43merrors\u001b[49m\u001b[43m,\u001b[49m\n\u001b[0;32m   5407\u001b[0m \u001b[43m    \u001b[49m\u001b[43m)\u001b[49m\n",
      "File \u001b[1;32m~\\anaconda3\\lib\\site-packages\\pandas\\util\\_decorators.py:331\u001b[0m, in \u001b[0;36mdeprecate_nonkeyword_arguments.<locals>.decorate.<locals>.wrapper\u001b[1;34m(*args, **kwargs)\u001b[0m\n\u001b[0;32m    325\u001b[0m \u001b[38;5;28;01mif\u001b[39;00m \u001b[38;5;28mlen\u001b[39m(args) \u001b[38;5;241m>\u001b[39m num_allow_args:\n\u001b[0;32m    326\u001b[0m     warnings\u001b[38;5;241m.\u001b[39mwarn(\n\u001b[0;32m    327\u001b[0m         msg\u001b[38;5;241m.\u001b[39mformat(arguments\u001b[38;5;241m=\u001b[39m_format_argument_list(allow_args)),\n\u001b[0;32m    328\u001b[0m         \u001b[38;5;167;01mFutureWarning\u001b[39;00m,\n\u001b[0;32m    329\u001b[0m         stacklevel\u001b[38;5;241m=\u001b[39mfind_stack_level(),\n\u001b[0;32m    330\u001b[0m     )\n\u001b[1;32m--> 331\u001b[0m \u001b[38;5;28;01mreturn\u001b[39;00m func(\u001b[38;5;241m*\u001b[39margs, \u001b[38;5;241m*\u001b[39m\u001b[38;5;241m*\u001b[39mkwargs)\n",
      "File \u001b[1;32m~\\anaconda3\\lib\\site-packages\\pandas\\core\\generic.py:4505\u001b[0m, in \u001b[0;36mNDFrame.drop\u001b[1;34m(self, labels, axis, index, columns, level, inplace, errors)\u001b[0m\n\u001b[0;32m   4503\u001b[0m \u001b[38;5;28;01mfor\u001b[39;00m axis, labels \u001b[38;5;129;01min\u001b[39;00m axes\u001b[38;5;241m.\u001b[39mitems():\n\u001b[0;32m   4504\u001b[0m     \u001b[38;5;28;01mif\u001b[39;00m labels \u001b[38;5;129;01mis\u001b[39;00m \u001b[38;5;129;01mnot\u001b[39;00m \u001b[38;5;28;01mNone\u001b[39;00m:\n\u001b[1;32m-> 4505\u001b[0m         obj \u001b[38;5;241m=\u001b[39m \u001b[43mobj\u001b[49m\u001b[38;5;241;43m.\u001b[39;49m\u001b[43m_drop_axis\u001b[49m\u001b[43m(\u001b[49m\u001b[43mlabels\u001b[49m\u001b[43m,\u001b[49m\u001b[43m \u001b[49m\u001b[43maxis\u001b[49m\u001b[43m,\u001b[49m\u001b[43m \u001b[49m\u001b[43mlevel\u001b[49m\u001b[38;5;241;43m=\u001b[39;49m\u001b[43mlevel\u001b[49m\u001b[43m,\u001b[49m\u001b[43m \u001b[49m\u001b[43merrors\u001b[49m\u001b[38;5;241;43m=\u001b[39;49m\u001b[43merrors\u001b[49m\u001b[43m)\u001b[49m\n\u001b[0;32m   4507\u001b[0m \u001b[38;5;28;01mif\u001b[39;00m inplace:\n\u001b[0;32m   4508\u001b[0m     \u001b[38;5;28mself\u001b[39m\u001b[38;5;241m.\u001b[39m_update_inplace(obj)\n",
      "File \u001b[1;32m~\\anaconda3\\lib\\site-packages\\pandas\\core\\generic.py:4546\u001b[0m, in \u001b[0;36mNDFrame._drop_axis\u001b[1;34m(self, labels, axis, level, errors, only_slice)\u001b[0m\n\u001b[0;32m   4544\u001b[0m         new_axis \u001b[38;5;241m=\u001b[39m axis\u001b[38;5;241m.\u001b[39mdrop(labels, level\u001b[38;5;241m=\u001b[39mlevel, errors\u001b[38;5;241m=\u001b[39merrors)\n\u001b[0;32m   4545\u001b[0m     \u001b[38;5;28;01melse\u001b[39;00m:\n\u001b[1;32m-> 4546\u001b[0m         new_axis \u001b[38;5;241m=\u001b[39m \u001b[43maxis\u001b[49m\u001b[38;5;241;43m.\u001b[39;49m\u001b[43mdrop\u001b[49m\u001b[43m(\u001b[49m\u001b[43mlabels\u001b[49m\u001b[43m,\u001b[49m\u001b[43m \u001b[49m\u001b[43merrors\u001b[49m\u001b[38;5;241;43m=\u001b[39;49m\u001b[43merrors\u001b[49m\u001b[43m)\u001b[49m\n\u001b[0;32m   4547\u001b[0m     indexer \u001b[38;5;241m=\u001b[39m axis\u001b[38;5;241m.\u001b[39mget_indexer(new_axis)\n\u001b[0;32m   4549\u001b[0m \u001b[38;5;66;03m# Case for non-unique axis\u001b[39;00m\n\u001b[0;32m   4550\u001b[0m \u001b[38;5;28;01melse\u001b[39;00m:\n",
      "File \u001b[1;32m~\\anaconda3\\lib\\site-packages\\pandas\\core\\indexes\\base.py:6934\u001b[0m, in \u001b[0;36mIndex.drop\u001b[1;34m(self, labels, errors)\u001b[0m\n\u001b[0;32m   6932\u001b[0m \u001b[38;5;28;01mif\u001b[39;00m mask\u001b[38;5;241m.\u001b[39many():\n\u001b[0;32m   6933\u001b[0m     \u001b[38;5;28;01mif\u001b[39;00m errors \u001b[38;5;241m!=\u001b[39m \u001b[38;5;124m\"\u001b[39m\u001b[38;5;124mignore\u001b[39m\u001b[38;5;124m\"\u001b[39m:\n\u001b[1;32m-> 6934\u001b[0m         \u001b[38;5;28;01mraise\u001b[39;00m \u001b[38;5;167;01mKeyError\u001b[39;00m(\u001b[38;5;124mf\u001b[39m\u001b[38;5;124m\"\u001b[39m\u001b[38;5;132;01m{\u001b[39;00m\u001b[38;5;28mlist\u001b[39m(labels[mask])\u001b[38;5;132;01m}\u001b[39;00m\u001b[38;5;124m not found in axis\u001b[39m\u001b[38;5;124m\"\u001b[39m)\n\u001b[0;32m   6935\u001b[0m     indexer \u001b[38;5;241m=\u001b[39m indexer[\u001b[38;5;241m~\u001b[39mmask]\n\u001b[0;32m   6936\u001b[0m \u001b[38;5;28;01mreturn\u001b[39;00m \u001b[38;5;28mself\u001b[39m\u001b[38;5;241m.\u001b[39mdelete(indexer)\n",
      "\u001b[1;31mKeyError\u001b[0m: \"['pi_time'] not found in axis\""
     ]
    }
   ],
   "source": [
    "    df_4h = df_raw.groupby([pd.Grouper(freq='2H', level='pi_time')]).mean(numeric_only=True)\n",
    "    df_4h = df_4h[df_4h['temperature_n'].notna()]\n",
    "    df_4h = df_4h[df_4h['thermo_temp_n'].notna()]\n",
    "    df_4h['temperature_n'] = df_4h['temperature_n'].astype('float64').round(decimals=0)\n",
    "    df_4h['thermo_temp_n'] = df_4h['thermo_temp_n'].astype('float64').round(decimals=0)\n",
    "    df_4h = df_4h.drop(columns=['pi_time'])"
   ]
  },
  {
   "cell_type": "code",
   "execution_count": null,
   "id": "a501f928",
   "metadata": {},
   "outputs": [],
   "source": [
    "print(df_4h)"
   ]
  },
  {
   "cell_type": "code",
   "execution_count": 13,
   "id": "f8044a94",
   "metadata": {},
   "outputs": [],
   "source": [
    "    df_4h=df_4h.reset_index()\n",
    "  "
   ]
  },
  {
   "cell_type": "code",
   "execution_count": null,
   "id": "79b20690",
   "metadata": {},
   "outputs": [],
   "source": [
    "    json_4h = {'Items': df_4h_json}"
   ]
  },
  {
   "cell_type": "code",
   "execution_count": 17,
   "id": "e1cd56fb",
   "metadata": {},
   "outputs": [
    {
     "name": "stdout",
     "output_type": "stream",
     "text": [
      "[{'pi_time': Timestamp('2021-09-08 00:00:00'), 'temperature_n': 13.0, 'thermo_temp_n': 18.0}, {'pi_time': Timestamp('2021-09-09 22:00:00'), 'temperature_n': 20.0, 'thermo_temp_n': 19.0}, {'pi_time': Timestamp('2021-09-10 00:00:00'), 'temperature_n': 18.0, 'thermo_temp_n': 19.0}, {'pi_time': Timestamp('2021-09-10 02:00:00'), 'temperature_n': 18.0, 'thermo_temp_n': 19.0}, {'pi_time': Timestamp('2021-09-10 04:00:00'), 'temperature_n': 17.0, 'thermo_temp_n': 19.0}, {'pi_time': Timestamp('2021-09-10 06:00:00'), 'temperature_n': 17.0, 'thermo_temp_n': 19.0}, {'pi_time': Timestamp('2021-09-10 08:00:00'), 'temperature_n': 19.0, 'thermo_temp_n': 19.0}, {'pi_time': Timestamp('2021-09-10 10:00:00'), 'temperature_n': 21.0, 'thermo_temp_n': 19.0}, {'pi_time': Timestamp('2021-09-10 12:00:00'), 'temperature_n': 22.0, 'thermo_temp_n': 19.0}, {'pi_time': Timestamp('2021-09-10 14:00:00'), 'temperature_n': 23.0, 'thermo_temp_n': 19.0}, {'pi_time': Timestamp('2021-09-10 16:00:00'), 'temperature_n': 23.0, 'thermo_temp_n': 19.0}, {'pi_time': Timestamp('2021-09-10 18:00:00'), 'temperature_n': 19.0, 'thermo_temp_n': 19.0}, {'pi_time': Timestamp('2021-09-10 20:00:00'), 'temperature_n': 18.0, 'thermo_temp_n': 17.0}, {'pi_time': Timestamp('2021-09-10 22:00:00'), 'temperature_n': 18.0, 'thermo_temp_n': 18.0}, {'pi_time': Timestamp('2021-09-11 00:00:00'), 'temperature_n': 17.0, 'thermo_temp_n': 18.0}, {'pi_time': Timestamp('2021-09-11 02:00:00'), 'temperature_n': 17.0, 'thermo_temp_n': 17.0}, {'pi_time': Timestamp('2021-09-11 06:00:00'), 'temperature_n': 16.0, 'thermo_temp_n': 16.0}, {'pi_time': Timestamp('2021-09-11 08:00:00'), 'temperature_n': 16.0, 'thermo_temp_n': 19.0}, {'pi_time': Timestamp('2021-09-11 10:00:00'), 'temperature_n': 16.0, 'thermo_temp_n': 19.0}, {'pi_time': Timestamp('2021-09-11 12:00:00'), 'temperature_n': 17.0, 'thermo_temp_n': 19.0}, {'pi_time': Timestamp('2021-09-11 14:00:00'), 'temperature_n': 18.0, 'thermo_temp_n': 18.0}, {'pi_time': Timestamp('2021-09-11 16:00:00'), 'temperature_n': 18.0, 'thermo_temp_n': 18.0}, {'pi_time': Timestamp('2021-09-11 18:00:00'), 'temperature_n': 19.0, 'thermo_temp_n': 18.0}, {'pi_time': Timestamp('2021-09-11 20:00:00'), 'temperature_n': 19.0, 'thermo_temp_n': 19.0}, {'pi_time': Timestamp('2021-09-11 22:00:00'), 'temperature_n': 19.0, 'thermo_temp_n': 19.0}, {'pi_time': Timestamp('2021-09-12 00:00:00'), 'temperature_n': 17.0, 'thermo_temp_n': 19.0}, {'pi_time': Timestamp('2021-09-12 02:00:00'), 'temperature_n': 17.0, 'thermo_temp_n': 19.0}, {'pi_time': Timestamp('2021-09-12 04:00:00'), 'temperature_n': 17.0, 'thermo_temp_n': 19.0}, {'pi_time': Timestamp('2021-09-12 06:00:00'), 'temperature_n': 17.0, 'thermo_temp_n': 19.0}, {'pi_time': Timestamp('2021-09-12 08:00:00'), 'temperature_n': 17.0, 'thermo_temp_n': 18.0}, {'pi_time': Timestamp('2021-09-12 10:00:00'), 'temperature_n': 17.0, 'thermo_temp_n': 18.0}, {'pi_time': Timestamp('2021-09-12 12:00:00'), 'temperature_n': 17.0, 'thermo_temp_n': 18.0}, {'pi_time': Timestamp('2021-09-12 14:00:00'), 'temperature_n': 17.0, 'thermo_temp_n': 18.0}, {'pi_time': Timestamp('2021-09-12 16:00:00'), 'temperature_n': 17.0, 'thermo_temp_n': 18.0}, {'pi_time': Timestamp('2021-09-12 18:00:00'), 'temperature_n': 17.0, 'thermo_temp_n': 18.0}, {'pi_time': Timestamp('2021-09-12 20:00:00'), 'temperature_n': 18.0, 'thermo_temp_n': 18.0}, {'pi_time': Timestamp('2021-09-12 22:00:00'), 'temperature_n': 17.0, 'thermo_temp_n': 18.0}, {'pi_time': Timestamp('2021-09-13 00:00:00'), 'temperature_n': 15.0, 'thermo_temp_n': 18.0}, {'pi_time': Timestamp('2021-09-13 02:00:00'), 'temperature_n': 15.0, 'thermo_temp_n': 18.0}, {'pi_time': Timestamp('2021-09-13 04:00:00'), 'temperature_n': 15.0, 'thermo_temp_n': 18.0}, {'pi_time': Timestamp('2021-09-13 06:00:00'), 'temperature_n': 14.0, 'thermo_temp_n': 18.0}, {'pi_time': Timestamp('2021-09-13 08:00:00'), 'temperature_n': 15.0, 'thermo_temp_n': 18.0}, {'pi_time': Timestamp('2021-09-13 10:00:00'), 'temperature_n': 16.0, 'thermo_temp_n': 18.0}, {'pi_time': Timestamp('2021-09-13 12:00:00'), 'temperature_n': 17.0, 'thermo_temp_n': 18.0}, {'pi_time': Timestamp('2021-09-13 14:00:00'), 'temperature_n': 17.0, 'thermo_temp_n': 18.0}, {'pi_time': Timestamp('2021-09-13 16:00:00'), 'temperature_n': 16.0, 'thermo_temp_n': 18.0}, {'pi_time': Timestamp('2021-09-13 18:00:00'), 'temperature_n': 15.0, 'thermo_temp_n': 18.0}, {'pi_time': Timestamp('2021-09-13 20:00:00'), 'temperature_n': 16.0, 'thermo_temp_n': 18.0}, {'pi_time': Timestamp('2021-09-13 22:00:00'), 'temperature_n': 15.0, 'thermo_temp_n': 18.0}, {'pi_time': Timestamp('2021-09-14 00:00:00'), 'temperature_n': 15.0, 'thermo_temp_n': 18.0}, {'pi_time': Timestamp('2021-09-14 02:00:00'), 'temperature_n': 15.0, 'thermo_temp_n': 18.0}, {'pi_time': Timestamp('2021-09-14 04:00:00'), 'temperature_n': 15.0, 'thermo_temp_n': 18.0}, {'pi_time': Timestamp('2021-09-14 06:00:00'), 'temperature_n': 14.0, 'thermo_temp_n': 17.0}, {'pi_time': Timestamp('2021-09-14 08:00:00'), 'temperature_n': 16.0, 'thermo_temp_n': 16.0}, {'pi_time': Timestamp('2021-09-14 10:00:00'), 'temperature_n': 17.0, 'thermo_temp_n': 17.0}, {'pi_time': Timestamp('2021-09-14 12:00:00'), 'temperature_n': 18.0, 'thermo_temp_n': 16.0}, {'pi_time': Timestamp('2021-09-14 14:00:00'), 'temperature_n': 18.0, 'thermo_temp_n': 16.0}, {'pi_time': Timestamp('2021-09-14 16:00:00'), 'temperature_n': 18.0, 'thermo_temp_n': 18.0}, {'pi_time': Timestamp('2021-09-14 18:00:00'), 'temperature_n': 17.0, 'thermo_temp_n': 17.0}, {'pi_time': Timestamp('2021-09-14 20:00:00'), 'temperature_n': 16.0, 'thermo_temp_n': 18.0}, {'pi_time': Timestamp('2021-09-14 22:00:00'), 'temperature_n': 16.0, 'thermo_temp_n': 18.0}, {'pi_time': Timestamp('2021-09-15 00:00:00'), 'temperature_n': 15.0, 'thermo_temp_n': 18.0}, {'pi_time': Timestamp('2021-09-15 02:00:00'), 'temperature_n': 14.0, 'thermo_temp_n': 18.0}, {'pi_time': Timestamp('2021-09-15 04:00:00'), 'temperature_n': 14.0, 'thermo_temp_n': 17.0}, {'pi_time': Timestamp('2021-09-15 06:00:00'), 'temperature_n': 14.0, 'thermo_temp_n': 17.0}, {'pi_time': Timestamp('2021-09-15 08:00:00'), 'temperature_n': 16.0, 'thermo_temp_n': 17.0}, {'pi_time': Timestamp('2021-09-15 10:00:00'), 'temperature_n': 18.0, 'thermo_temp_n': 17.0}, {'pi_time': Timestamp('2021-09-15 12:00:00'), 'temperature_n': 18.0, 'thermo_temp_n': 17.0}, {'pi_time': Timestamp('2021-09-15 14:00:00'), 'temperature_n': 19.0, 'thermo_temp_n': 16.0}, {'pi_time': Timestamp('2021-09-15 16:00:00'), 'temperature_n': 18.0, 'thermo_temp_n': 17.0}, {'pi_time': Timestamp('2021-09-15 18:00:00'), 'temperature_n': 18.0, 'thermo_temp_n': 17.0}, {'pi_time': Timestamp('2021-09-15 20:00:00'), 'temperature_n': 18.0, 'thermo_temp_n': 17.0}, {'pi_time': Timestamp('2021-09-15 22:00:00'), 'temperature_n': 16.0, 'thermo_temp_n': 17.0}, {'pi_time': Timestamp('2021-09-16 00:00:00'), 'temperature_n': 16.0, 'thermo_temp_n': 17.0}, {'pi_time': Timestamp('2021-09-16 02:00:00'), 'temperature_n': 15.0, 'thermo_temp_n': 17.0}, {'pi_time': Timestamp('2021-09-16 04:00:00'), 'temperature_n': 15.0, 'thermo_temp_n': 17.0}, {'pi_time': Timestamp('2021-09-16 06:00:00'), 'temperature_n': 14.0, 'thermo_temp_n': 17.0}, {'pi_time': Timestamp('2021-09-16 08:00:00'), 'temperature_n': 17.0, 'thermo_temp_n': 17.0}, {'pi_time': Timestamp('2021-09-16 10:00:00'), 'temperature_n': 19.0, 'thermo_temp_n': 17.0}, {'pi_time': Timestamp('2021-09-16 12:00:00'), 'temperature_n': 19.0, 'thermo_temp_n': 17.0}, {'pi_time': Timestamp('2021-09-16 14:00:00'), 'temperature_n': 19.0, 'thermo_temp_n': 17.0}, {'pi_time': Timestamp('2021-09-16 16:00:00'), 'temperature_n': 19.0, 'thermo_temp_n': 17.0}, {'pi_time': Timestamp('2021-09-16 18:00:00'), 'temperature_n': 17.0, 'thermo_temp_n': 17.0}, {'pi_time': Timestamp('2021-09-16 20:00:00'), 'temperature_n': 16.0, 'thermo_temp_n': 18.0}, {'pi_time': Timestamp('2021-09-16 22:00:00'), 'temperature_n': 15.0, 'thermo_temp_n': 18.0}, {'pi_time': Timestamp('2021-09-17 00:00:00'), 'temperature_n': 15.0, 'thermo_temp_n': 18.0}, {'pi_time': Timestamp('2021-09-17 02:00:00'), 'temperature_n': 15.0, 'thermo_temp_n': 18.0}, {'pi_time': Timestamp('2021-09-17 04:00:00'), 'temperature_n': 15.0, 'thermo_temp_n': 18.0}, {'pi_time': Timestamp('2021-09-17 06:00:00'), 'temperature_n': 15.0, 'thermo_temp_n': 18.0}, {'pi_time': Timestamp('2021-09-17 08:00:00'), 'temperature_n': 17.0, 'thermo_temp_n': 18.0}, {'pi_time': Timestamp('2021-09-17 10:00:00'), 'temperature_n': 19.0, 'thermo_temp_n': 17.0}, {'pi_time': Timestamp('2021-09-17 12:00:00'), 'temperature_n': 20.0, 'thermo_temp_n': 17.0}, {'pi_time': Timestamp('2021-09-17 14:00:00'), 'temperature_n': 21.0, 'thermo_temp_n': 18.0}, {'pi_time': Timestamp('2021-09-17 16:00:00'), 'temperature_n': 21.0, 'thermo_temp_n': 18.0}]\n"
     ]
    }
   ],
   "source": [
    "print(new_items)\n"
   ]
  },
  {
   "cell_type": "code",
   "execution_count": 18,
   "id": "852eef40",
   "metadata": {},
   "outputs": [
    {
     "ename": "TypeError",
     "evalue": "Object of type Timestamp is not JSON serializable",
     "output_type": "error",
     "traceback": [
      "\u001b[1;31m---------------------------------------------------------------------------\u001b[0m",
      "\u001b[1;31mTypeError\u001b[0m                                 Traceback (most recent call last)",
      "Cell \u001b[1;32mIn[18], line 2\u001b[0m\n\u001b[0;32m      1\u001b[0m new_items \u001b[38;5;241m=\u001b[39m df_4h\u001b[38;5;241m.\u001b[39mto_dict(orient\u001b[38;5;241m=\u001b[39m\u001b[38;5;124m'\u001b[39m\u001b[38;5;124mrecords\u001b[39m\u001b[38;5;124m'\u001b[39m)\n\u001b[1;32m----> 2\u001b[0m changed_data \u001b[38;5;241m=\u001b[39m json\u001b[38;5;241m.\u001b[39mloads(\u001b[43mjson\u001b[49m\u001b[38;5;241;43m.\u001b[39;49m\u001b[43mdumps\u001b[49m\u001b[43m(\u001b[49m\u001b[43mnew_items\u001b[49m\u001b[43m)\u001b[49m, parse_float\u001b[38;5;241m=\u001b[39mDecimal, parse_timestamp\u001b[38;5;241m=\u001b[39m\u001b[38;5;28mstr\u001b[39m)\n",
      "File \u001b[1;32m~\\anaconda3\\lib\\json\\__init__.py:231\u001b[0m, in \u001b[0;36mdumps\u001b[1;34m(obj, skipkeys, ensure_ascii, check_circular, allow_nan, cls, indent, separators, default, sort_keys, **kw)\u001b[0m\n\u001b[0;32m    226\u001b[0m \u001b[38;5;66;03m# cached encoder\u001b[39;00m\n\u001b[0;32m    227\u001b[0m \u001b[38;5;28;01mif\u001b[39;00m (\u001b[38;5;129;01mnot\u001b[39;00m skipkeys \u001b[38;5;129;01mand\u001b[39;00m ensure_ascii \u001b[38;5;129;01mand\u001b[39;00m\n\u001b[0;32m    228\u001b[0m     check_circular \u001b[38;5;129;01mand\u001b[39;00m allow_nan \u001b[38;5;129;01mand\u001b[39;00m\n\u001b[0;32m    229\u001b[0m     \u001b[38;5;28mcls\u001b[39m \u001b[38;5;129;01mis\u001b[39;00m \u001b[38;5;28;01mNone\u001b[39;00m \u001b[38;5;129;01mand\u001b[39;00m indent \u001b[38;5;129;01mis\u001b[39;00m \u001b[38;5;28;01mNone\u001b[39;00m \u001b[38;5;129;01mand\u001b[39;00m separators \u001b[38;5;129;01mis\u001b[39;00m \u001b[38;5;28;01mNone\u001b[39;00m \u001b[38;5;129;01mand\u001b[39;00m\n\u001b[0;32m    230\u001b[0m     default \u001b[38;5;129;01mis\u001b[39;00m \u001b[38;5;28;01mNone\u001b[39;00m \u001b[38;5;129;01mand\u001b[39;00m \u001b[38;5;129;01mnot\u001b[39;00m sort_keys \u001b[38;5;129;01mand\u001b[39;00m \u001b[38;5;129;01mnot\u001b[39;00m kw):\n\u001b[1;32m--> 231\u001b[0m     \u001b[38;5;28;01mreturn\u001b[39;00m \u001b[43m_default_encoder\u001b[49m\u001b[38;5;241;43m.\u001b[39;49m\u001b[43mencode\u001b[49m\u001b[43m(\u001b[49m\u001b[43mobj\u001b[49m\u001b[43m)\u001b[49m\n\u001b[0;32m    232\u001b[0m \u001b[38;5;28;01mif\u001b[39;00m \u001b[38;5;28mcls\u001b[39m \u001b[38;5;129;01mis\u001b[39;00m \u001b[38;5;28;01mNone\u001b[39;00m:\n\u001b[0;32m    233\u001b[0m     \u001b[38;5;28mcls\u001b[39m \u001b[38;5;241m=\u001b[39m JSONEncoder\n",
      "File \u001b[1;32m~\\anaconda3\\lib\\json\\encoder.py:199\u001b[0m, in \u001b[0;36mJSONEncoder.encode\u001b[1;34m(self, o)\u001b[0m\n\u001b[0;32m    195\u001b[0m         \u001b[38;5;28;01mreturn\u001b[39;00m encode_basestring(o)\n\u001b[0;32m    196\u001b[0m \u001b[38;5;66;03m# This doesn't pass the iterator directly to ''.join() because the\u001b[39;00m\n\u001b[0;32m    197\u001b[0m \u001b[38;5;66;03m# exceptions aren't as detailed.  The list call should be roughly\u001b[39;00m\n\u001b[0;32m    198\u001b[0m \u001b[38;5;66;03m# equivalent to the PySequence_Fast that ''.join() would do.\u001b[39;00m\n\u001b[1;32m--> 199\u001b[0m chunks \u001b[38;5;241m=\u001b[39m \u001b[38;5;28;43mself\u001b[39;49m\u001b[38;5;241;43m.\u001b[39;49m\u001b[43miterencode\u001b[49m\u001b[43m(\u001b[49m\u001b[43mo\u001b[49m\u001b[43m,\u001b[49m\u001b[43m \u001b[49m\u001b[43m_one_shot\u001b[49m\u001b[38;5;241;43m=\u001b[39;49m\u001b[38;5;28;43;01mTrue\u001b[39;49;00m\u001b[43m)\u001b[49m\n\u001b[0;32m    200\u001b[0m \u001b[38;5;28;01mif\u001b[39;00m \u001b[38;5;129;01mnot\u001b[39;00m \u001b[38;5;28misinstance\u001b[39m(chunks, (\u001b[38;5;28mlist\u001b[39m, \u001b[38;5;28mtuple\u001b[39m)):\n\u001b[0;32m    201\u001b[0m     chunks \u001b[38;5;241m=\u001b[39m \u001b[38;5;28mlist\u001b[39m(chunks)\n",
      "File \u001b[1;32m~\\anaconda3\\lib\\json\\encoder.py:257\u001b[0m, in \u001b[0;36mJSONEncoder.iterencode\u001b[1;34m(self, o, _one_shot)\u001b[0m\n\u001b[0;32m    252\u001b[0m \u001b[38;5;28;01melse\u001b[39;00m:\n\u001b[0;32m    253\u001b[0m     _iterencode \u001b[38;5;241m=\u001b[39m _make_iterencode(\n\u001b[0;32m    254\u001b[0m         markers, \u001b[38;5;28mself\u001b[39m\u001b[38;5;241m.\u001b[39mdefault, _encoder, \u001b[38;5;28mself\u001b[39m\u001b[38;5;241m.\u001b[39mindent, floatstr,\n\u001b[0;32m    255\u001b[0m         \u001b[38;5;28mself\u001b[39m\u001b[38;5;241m.\u001b[39mkey_separator, \u001b[38;5;28mself\u001b[39m\u001b[38;5;241m.\u001b[39mitem_separator, \u001b[38;5;28mself\u001b[39m\u001b[38;5;241m.\u001b[39msort_keys,\n\u001b[0;32m    256\u001b[0m         \u001b[38;5;28mself\u001b[39m\u001b[38;5;241m.\u001b[39mskipkeys, _one_shot)\n\u001b[1;32m--> 257\u001b[0m \u001b[38;5;28;01mreturn\u001b[39;00m \u001b[43m_iterencode\u001b[49m\u001b[43m(\u001b[49m\u001b[43mo\u001b[49m\u001b[43m,\u001b[49m\u001b[43m \u001b[49m\u001b[38;5;241;43m0\u001b[39;49m\u001b[43m)\u001b[49m\n",
      "File \u001b[1;32m~\\anaconda3\\lib\\json\\encoder.py:179\u001b[0m, in \u001b[0;36mJSONEncoder.default\u001b[1;34m(self, o)\u001b[0m\n\u001b[0;32m    160\u001b[0m \u001b[38;5;28;01mdef\u001b[39;00m \u001b[38;5;21mdefault\u001b[39m(\u001b[38;5;28mself\u001b[39m, o):\n\u001b[0;32m    161\u001b[0m     \u001b[38;5;124;03m\"\"\"Implement this method in a subclass such that it returns\u001b[39;00m\n\u001b[0;32m    162\u001b[0m \u001b[38;5;124;03m    a serializable object for ``o``, or calls the base implementation\u001b[39;00m\n\u001b[0;32m    163\u001b[0m \u001b[38;5;124;03m    (to raise a ``TypeError``).\u001b[39;00m\n\u001b[1;32m   (...)\u001b[0m\n\u001b[0;32m    177\u001b[0m \n\u001b[0;32m    178\u001b[0m \u001b[38;5;124;03m    \"\"\"\u001b[39;00m\n\u001b[1;32m--> 179\u001b[0m     \u001b[38;5;28;01mraise\u001b[39;00m \u001b[38;5;167;01mTypeError\u001b[39;00m(\u001b[38;5;124mf\u001b[39m\u001b[38;5;124m'\u001b[39m\u001b[38;5;124mObject of type \u001b[39m\u001b[38;5;132;01m{\u001b[39;00mo\u001b[38;5;241m.\u001b[39m\u001b[38;5;18m__class__\u001b[39m\u001b[38;5;241m.\u001b[39m\u001b[38;5;18m__name__\u001b[39m\u001b[38;5;132;01m}\u001b[39;00m\u001b[38;5;124m \u001b[39m\u001b[38;5;124m'\u001b[39m\n\u001b[0;32m    180\u001b[0m                     \u001b[38;5;124mf\u001b[39m\u001b[38;5;124m'\u001b[39m\u001b[38;5;124mis not JSON serializable\u001b[39m\u001b[38;5;124m'\u001b[39m)\n",
      "\u001b[1;31mTypeError\u001b[0m: Object of type Timestamp is not JSON serializable"
     ]
    }
   ],
   "source": [
    "\n",
    "new_items = df_4h.to_dict(orient='records')\n",
    "changed_data = json.loads(json.dumps(new_items), parse_float=Decimal, parse_timestamp=str)\n"
   ]
  },
  {
   "cell_type": "code",
   "execution_count": null,
   "id": "66fb0ba0",
   "metadata": {},
   "outputs": [],
   "source": [
    "print(new_items)"
   ]
  },
  {
   "cell_type": "code",
   "execution_count": 27,
   "id": "f2fbbbe0",
   "metadata": {},
   "outputs": [],
   "source": [
    "# Initialize DynamoDB client\n",
    "dynamodb = boto3.resource('dynamodb',\n",
    "                               region_name=os.getenv('AWS_REGION'),         \n",
    "                               aws_access_key_id=os.getenv('AWS_KEY'),          \n",
    "                               aws_secret_access_key=os.getenv('AWS_SECRET_KEY'))\n",
    "\n",
    "table = dynamodb.Table('BREW_LOG')"
   ]
  },
  {
   "cell_type": "code",
   "execution_count": 20,
   "id": "39b5ab67",
   "metadata": {},
   "outputs": [],
   "source": [
    "data2 = {\n",
    "    'temperature': [60.3, 62, 65, 63, 61],\n",
    "    'timestamp': [\n",
    "        '2023-12-18 00:00:00',\n",
    "        '2023-12-18 02:00:00',\n",
    "        '2023-12-18 04:00:00',\n",
    "        '2023-12-18 06:00:00',\n",
    "        '2023-12-18 08:00:00'\n",
    "    ]\n",
    "}\n",
    "df_tss = pd.DataFrame(data2)\n",
    "#print(df_tss)\n",
    "items_from_test = df_tss.to_dict(orient='records')\n",
    "\n",
    "\n",
    "#df = pd.DataFrame(changed_data)\n",
    "\n",
    "\n",
    "\n",
    "# Convert DataFrame to a list of dictionaries\n",
    "#items_from_test = df.to_dict(orient='records',parse_float=Decimal)\n",
    "#items_from_test = pd.io.json.dumps(df, double_precision=2)"
   ]
  },
  {
   "cell_type": "code",
   "execution_count": 23,
   "id": "912fd25f",
   "metadata": {},
   "outputs": [
    {
     "name": "stdout",
     "output_type": "stream",
     "text": [
      "{'temperature': [60.3, 62, 65, 63, 61], 'timestamp': ['2023-12-18 00:00:00', '2023-12-18 02:00:00', '2023-12-18 04:00:00', '2023-12-18 06:00:00', '2023-12-18 08:00:00']}\n",
      "[{'temperature': 60.3, 'timestamp': '2023-12-18 00:00:00'}, {'temperature': 62.0, 'timestamp': '2023-12-18 02:00:00'}, {'temperature': 65.0, 'timestamp': '2023-12-18 04:00:00'}, {'temperature': 63.0, 'timestamp': '2023-12-18 06:00:00'}, {'temperature': 61.0, 'timestamp': '2023-12-18 08:00:00'}]\n"
     ]
    }
   ],
   "source": [
    "print(data2)\n",
    "#print(changed_data)\n",
    "#print(df)\n",
    "print(items_from_test)"
   ]
  },
  {
   "cell_type": "code",
   "execution_count": 24,
   "id": "7bcb3b39",
   "metadata": {},
   "outputs": [],
   "source": [
    "changed_data = json.loads(json.dumps(items_from_test), parse_float=Decimal)"
   ]
  },
  {
   "cell_type": "code",
   "execution_count": 25,
   "id": "cac70c28",
   "metadata": {},
   "outputs": [
    {
     "name": "stdout",
     "output_type": "stream",
     "text": [
      "[{'temperature': Decimal('60.3'), 'timestamp': '2023-12-18 00:00:00'}, {'temperature': Decimal('62.0'), 'timestamp': '2023-12-18 02:00:00'}, {'temperature': Decimal('65.0'), 'timestamp': '2023-12-18 04:00:00'}, {'temperature': Decimal('63.0'), 'timestamp': '2023-12-18 06:00:00'}, {'temperature': Decimal('61.0'), 'timestamp': '2023-12-18 08:00:00'}]\n"
     ]
    }
   ],
   "source": [
    "print(changed_data)"
   ]
  },
  {
   "cell_type": "code",
   "execution_count": null,
   "id": "96af8e6b",
   "metadata": {},
   "outputs": [],
   "source": [
    "print(df_tss)\n",
    "print('-----------------------------')\n",
    "print(df_4h)"
   ]
  },
  {
   "cell_type": "code",
   "execution_count": 28,
   "id": "adfe0390",
   "metadata": {},
   "outputs": [
    {
     "data": {
      "text/plain": [
       "{'Attributes': {'TEMP_DATA_TEST233': [{'temperature': Decimal('60.3'),\n",
       "    'timestamp': '2023-12-18 00:00:00'},\n",
       "   {'temperature': Decimal('62'), 'timestamp': '2023-12-18 02:00:00'},\n",
       "   {'temperature': Decimal('65'), 'timestamp': '2023-12-18 04:00:00'},\n",
       "   {'temperature': Decimal('63'), 'timestamp': '2023-12-18 06:00:00'},\n",
       "   {'temperature': Decimal('61'), 'timestamp': '2023-12-18 08:00:00'}]},\n",
       " 'ResponseMetadata': {'RequestId': 'MR4UIEMUVF9F2VRIRGE9NQN5GJVV4KQNSO5AEMVJF66Q9ASUAAJG',\n",
       "  'HTTPStatusCode': 200,\n",
       "  'HTTPHeaders': {'server': 'Server',\n",
       "   'date': 'Wed, 20 Dec 2023 17:22:33 GMT',\n",
       "   'content-type': 'application/x-amz-json-1.0',\n",
       "   'content-length': '411',\n",
       "   'connection': 'keep-alive',\n",
       "   'x-amzn-requestid': 'MR4UIEMUVF9F2VRIRGE9NQN5GJVV4KQNSO5AEMVJF66Q9ASUAAJG',\n",
       "   'x-amz-crc32': '793604352'},\n",
       "  'RetryAttempts': 0}}"
      ]
     },
     "execution_count": 28,
     "metadata": {},
     "output_type": "execute_result"
    }
   ],
   "source": [
    "table.update_item(\n",
    "   Key={\"BEER_ID\":\"SCWG_IPA\", \"BEER_DATE\": \"2021-09-05\"},\n",
    "                UpdateExpression=\"set TEMP_DATA_TEST233=:r\",\n",
    "                ExpressionAttributeValues={\":r\": changed_data},\n",
    "                ReturnValues=\"UPDATED_NEW\"\n",
    ")"
   ]
  },
  {
   "cell_type": "code",
   "execution_count": null,
   "id": "4dac98aa",
   "metadata": {},
   "outputs": [],
   "source": [
    "print(new_items)"
   ]
  },
  {
   "cell_type": "code",
   "execution_count": null,
   "id": "4fd7aa80",
   "metadata": {},
   "outputs": [],
   "source": [
    "items_from_raw=json.loads(json.dumps(new_items), parse_float=Decimal)"
   ]
  },
  {
   "cell_type": "code",
   "execution_count": null,
   "id": "be2b8b9c",
   "metadata": {},
   "outputs": [],
   "source": [
    "table.update_item(\n",
    "   Key={\"BEER_ID\":\"SCWG_IPA\", \"BEER_DATE\": \"2021-09-05\"},\n",
    "                UpdateExpression=\"set TEMP_DATA_RAW=:r\",\n",
    "                ExpressionAttributeValues={\":r\": items_from_raw},\n",
    "                ReturnValues=\"UPDATED_NEW\"\n",
    ")"
   ]
  },
  {
   "cell_type": "code",
   "execution_count": null,
   "id": "83b8c389",
   "metadata": {},
   "outputs": [],
   "source": [
    "print(items_from_test)\n",
    "print('0----------------------------------------------')\n",
    "print(items_from_raw)"
   ]
  }
 ],
 "metadata": {
  "kernelspec": {
   "display_name": "Python 3 (ipykernel)",
   "language": "python",
   "name": "python3"
  },
  "language_info": {
   "codemirror_mode": {
    "name": "ipython",
    "version": 3
   },
   "file_extension": ".py",
   "mimetype": "text/x-python",
   "name": "python",
   "nbconvert_exporter": "python",
   "pygments_lexer": "ipython3",
   "version": "3.10.9"
  }
 },
 "nbformat": 4,
 "nbformat_minor": 5
}
