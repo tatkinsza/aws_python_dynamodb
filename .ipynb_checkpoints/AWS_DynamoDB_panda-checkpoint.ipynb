{
 "cells": [
  {
   "cell_type": "code",
   "execution_count": 9,
   "id": "be0bf4ff",
   "metadata": {},
   "outputs": [],
   "source": [
    "import os\n",
    "import json\n",
    "import boto3\n",
    "import pandas as pd\n",
    "import numpy as np\n",
    "from boto3.dynamodb.types import TypeSerializer, TypeDeserializer\n",
    "from boto3.dynamodb.conditions import Key\n",
    "from decimal import Decimal"
   ]
  },
  {
   "cell_type": "code",
   "execution_count": 10,
   "id": "a291d159",
   "metadata": {},
   "outputs": [],
   "source": [
    "from dotenv import load_dotenv"
   ]
  },
  {
   "cell_type": "code",
   "execution_count": 12,
   "id": "386bae99",
   "metadata": {},
   "outputs": [
    {
     "data": {
      "text/plain": [
       "True"
      ]
     },
     "execution_count": 12,
     "metadata": {},
     "output_type": "execute_result"
    }
   ],
   "source": [
    "load_dotenv()"
   ]
  },
  {
   "cell_type": "code",
   "execution_count": 13,
   "id": "3b5a475a",
   "metadata": {},
   "outputs": [],
   "source": [
    "\n",
    "ts= TypeSerializer()\n",
    "td = TypeDeserializer()\n",
    "\n",
    "\n",
    "\n",
    "\n",
    "class DecimalEncoder(json.JSONEncoder):\n",
    "  def default(self, obj):\n",
    "    if isinstance(obj, Decimal):\n",
    "      return str(obj)\n",
    "    return json.JSONEncoder.default(self, obj)"
   ]
  },
  {
   "cell_type": "code",
   "execution_count": 15,
   "id": "542ed55e",
   "metadata": {},
   "outputs": [
    {
     "ename": "SyntaxError",
     "evalue": "'(' was never closed (3706545772.py, line 3)",
     "output_type": "error",
     "traceback": [
      "\u001b[1;36m  Cell \u001b[1;32mIn[15], line 3\u001b[1;36m\u001b[0m\n\u001b[1;33m    dyna_clnt=boto3.client('dynamodb',region_name=os.getenv('AWS_REGION'),         aws_access_key_id=os.getenv('AWS_KEY'),\u001b[0m\n\u001b[1;37m                          ^\u001b[0m\n\u001b[1;31mSyntaxError\u001b[0m\u001b[1;31m:\u001b[0m '(' was never closed\n"
     ]
    }
   ],
   "source": [
    "\n",
    "\n",
    "def query_sql(beer_id, dynamodb=None):\n",
    "    if not dynamodb:\n",
    "        dyna_clnt=boto3.client('dynamodb',region_name=os.getenv('AWS_REGION'),         aws_access_key_id=os.getenv('AWS_KEY'), \n",
    "         aws_secret_access_key=os.getenv('AWS_SECRET_KEY'))\n",
    "    stmt = \"SELECT BREW_ID,PI_TMSTP,STAGE,location,temperature,thermo_loc,thermo_temp FROM BREW_MON WHERE BREW_ID='\" + beer_id + \"'  ORDER BY PI_TMSTP DESC\"\n",
    "   # print(lambda_handler(event=brew1))\n",
    "    response = dyna_clnt.execute_statement(Statement=stmt)\n",
    "    print(\"HI\")\n",
    "    return response    \n",
    " "
   ]
  },
  {
   "cell_type": "code",
   "execution_count": 8,
   "id": "eb075d39",
   "metadata": {},
   "outputs": [
    {
     "ename": "NameError",
     "evalue": "name 'boto3' is not defined",
     "output_type": "error",
     "traceback": [
      "\u001b[1;31m---------------------------------------------------------------------------\u001b[0m",
      "\u001b[1;31mNameError\u001b[0m                                 Traceback (most recent call last)",
      "Cell \u001b[1;32mIn[8], line 1\u001b[0m\n\u001b[1;32m----> 1\u001b[0m lines \u001b[38;5;241m=\u001b[39m \u001b[43mquery_sql\u001b[49m\u001b[43m(\u001b[49m\u001b[43mbeer_id\u001b[49m\u001b[38;5;241;43m=\u001b[39;49m\u001b[38;5;124;43m'\u001b[39;49m\u001b[38;5;124;43mSCWG_IPA\u001b[39;49m\u001b[38;5;124;43m'\u001b[39;49m\u001b[43m)\u001b[49m\n",
      "Cell \u001b[1;32mIn[7], line 3\u001b[0m, in \u001b[0;36mquery_sql\u001b[1;34m(beer_id, dynamodb)\u001b[0m\n\u001b[0;32m      1\u001b[0m \u001b[38;5;28;01mdef\u001b[39;00m \u001b[38;5;21mquery_sql\u001b[39m(beer_id, dynamodb\u001b[38;5;241m=\u001b[39m\u001b[38;5;28;01mNone\u001b[39;00m):\n\u001b[0;32m      2\u001b[0m     \u001b[38;5;28;01mif\u001b[39;00m \u001b[38;5;129;01mnot\u001b[39;00m dynamodb:\n\u001b[1;32m----> 3\u001b[0m         dyna_clnt\u001b[38;5;241m=\u001b[39m\u001b[43mboto3\u001b[49m\u001b[38;5;241m.\u001b[39mclient(\u001b[38;5;124m'\u001b[39m\u001b[38;5;124mdynamodb\u001b[39m\u001b[38;5;124m'\u001b[39m, region_name\u001b[38;5;241m=\u001b[39mAWS_REGION,         aws_access_key_id\u001b[38;5;241m=\u001b[39mAWS_KEY, \n\u001b[0;32m      4\u001b[0m          aws_secret_access_key\u001b[38;5;241m=\u001b[39mAWS_SECRET_KEY)\n\u001b[0;32m      5\u001b[0m     stmt \u001b[38;5;241m=\u001b[39m \u001b[38;5;124m\"\u001b[39m\u001b[38;5;124mSELECT BREW_ID,PI_TMSTP,STAGE,location,temperature,thermo_loc,thermo_temp FROM BREW_MON WHERE BREW_ID=\u001b[39m\u001b[38;5;124m'\u001b[39m\u001b[38;5;124m\"\u001b[39m \u001b[38;5;241m+\u001b[39m beer_id \u001b[38;5;241m+\u001b[39m \u001b[38;5;124m\"\u001b[39m\u001b[38;5;124m'\u001b[39m\u001b[38;5;124m  ORDER BY PI_TMSTP DESC\u001b[39m\u001b[38;5;124m\"\u001b[39m\n\u001b[0;32m      6\u001b[0m    \u001b[38;5;66;03m# print(lambda_handler(event=brew1))\u001b[39;00m\n",
      "\u001b[1;31mNameError\u001b[0m: name 'boto3' is not defined"
     ]
    }
   ],
   "source": [
    "lines = query_sql(beer_id='SCWG_IPA')"
   ]
  },
  {
   "cell_type": "code",
   "execution_count": 35,
   "id": "bc957475",
   "metadata": {},
   "outputs": [],
   "source": [
    " df_raw = pd.json_normalize(lines, record_path =['Items'])"
   ]
  },
  {
   "cell_type": "code",
   "execution_count": 36,
   "id": "ba09ed22",
   "metadata": {},
   "outputs": [],
   "source": [
    "    df_raw['pi_time']=pd.to_datetime(df_raw['PI_TMSTP.S'])\n",
    "    df_raw['temperature_n']=pd.to_numeric(df_raw['temperature.S'], downcast=\"float\")\n",
    "    df_raw['thermo_temp_n']=pd.to_numeric(df_raw['thermo_temp.N'], downcast=\"float\")    \n",
    "    df_raw.set_index('pi_time',inplace=True)"
   ]
  },
  {
   "cell_type": "code",
   "execution_count": 37,
   "id": "592b7e91",
   "metadata": {},
   "outputs": [],
   "source": [
    "    df_raw = df_raw.drop(df_raw[df_raw.thermo_temp_n > 50].index)\n",
    "    df_raw = df_raw.drop(df_raw[df_raw.thermo_temp_n < 0].index)\n",
    "    df_raw = df_raw.drop(columns=['BREW_ID.S','PI_TMSTP.S','STAGE.S','location.S','thermo_loc.S','temperature.S','thermo_temp.N'])\n",
    "    df_raw['temperature_n'] = df_raw['temperature_n'].round(2)\n",
    "    df_raw['thermo_temp_n'] = df_raw['thermo_temp_n'].round(2)"
   ]
  },
  {
   "cell_type": "code",
   "execution_count": 38,
   "id": "6c683f71",
   "metadata": {},
   "outputs": [],
   "source": [
    "    df_4h = df_raw.groupby([pd.Grouper(freq='2H', level='pi_time')]).mean(numeric_only=True)\n",
    "    df_4h = df_4h[df_4h['temperature_n'].notna()]\n",
    "    df_4h = df_4h[df_4h['thermo_temp_n'].notna()]"
   ]
  },
  {
   "cell_type": "code",
   "execution_count": 39,
   "id": "f8044a94",
   "metadata": {},
   "outputs": [],
   "source": [
    "    df_4h=df_4h.reset_index()\n",
    "    df_4h_json = df_4h.to_json(orient='records',date_format='iso')"
   ]
  },
  {
   "cell_type": "code",
   "execution_count": 40,
   "id": "79b20690",
   "metadata": {},
   "outputs": [],
   "source": [
    "    json_4h = {'Items': df_4h_json}"
   ]
  },
  {
   "cell_type": "code",
   "execution_count": 41,
   "id": "e1cd56fb",
   "metadata": {},
   "outputs": [
    {
     "name": "stdout",
     "output_type": "stream",
     "text": [
      "               pi_time  temperature_n  thermo_temp_n\n",
      "0  2021-09-08 00:00:00      13.250000      17.820000\n",
      "1  2021-09-09 22:00:00      20.111111      19.073750\n",
      "2  2021-09-10 00:00:00      18.500000      19.103333\n",
      "3  2021-09-10 02:00:00      18.000000      19.052500\n",
      "4  2021-09-10 04:00:00      17.250000      19.039999\n",
      "..                 ...            ...            ...\n",
      "89 2021-09-17 08:00:00      16.916666      17.522499\n",
      "90 2021-09-17 10:00:00      19.250000      17.477499\n",
      "91 2021-09-17 12:00:00      20.333334      17.484999\n",
      "92 2021-09-17 14:00:00      21.083334      17.633333\n",
      "93 2021-09-17 16:00:00      21.250000      17.712500\n",
      "\n",
      "[94 rows x 3 columns]\n"
     ]
    }
   ],
   "source": [
    "print(df_4h)"
   ]
  },
  {
   "cell_type": "code",
   "execution_count": null,
   "id": "2ce918e3",
   "metadata": {},
   "outputs": [],
   "source": []
  }
 ],
 "metadata": {
  "kernelspec": {
   "display_name": "Python 3 (ipykernel)",
   "language": "python",
   "name": "python3"
  },
  "language_info": {
   "codemirror_mode": {
    "name": "ipython",
    "version": 3
   },
   "file_extension": ".py",
   "mimetype": "text/x-python",
   "name": "python",
   "nbconvert_exporter": "python",
   "pygments_lexer": "ipython3",
   "version": "3.10.9"
  }
 },
 "nbformat": 4,
 "nbformat_minor": 5
}
